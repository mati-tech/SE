{
 "cells": [
  {
   "cell_type": "markdown",
   "id": "e1e050c1",
   "metadata": {},
   "source": [
    "1.2.1 Пример \n",
    "Создать массив 5x2. Создать массив 5x2. Вывести все значения массива, \n",
    "значение элемента с индексом (3,1) и второй столбец. Индексация \n",
    "начинается с нуля."
   ]
  },
  {
   "cell_type": "code",
   "execution_count": 6,
   "id": "0f579138",
   "metadata": {},
   "outputs": [
    {
     "name": "stdout",
     "output_type": "stream",
     "text": [
      "Массив 5x2:\n",
      "[[0 1]\n",
      " [2 3]\n",
      " [4 5]\n",
      " [6 7]\n",
      " [8 9]]\n",
      "\n",
      "Значение элемента с индексом (3,1):\n",
      "7\n",
      "\n",
      "Второй столбец массива:\n",
      "[1 3 5 7 9]\n"
     ]
    }
   ],
   "source": [
    "import numpy as np\n",
    "\n",
    "arr = np.array([[0, 1], [2, 3], [4, 5], [6, 7], [8, 9]])\n",
    "\n",
    "print(\"Массив 5x2:\")\n",
    "print(arr)\n",
    "\n",
    "print(\"\\nЗначение элемента с индексом (3,1):\")\n",
    "print(arr[3, 1])\n",
    "\n",
    "print(\"\\nВторой столбец массива:\")\n",
    "print(arr[:, 1])\n"
   ]
  },
  {
   "cell_type": "markdown",
   "id": "e8024574",
   "metadata": {},
   "source": [
    "1.2.2 Пример\n",
    "Пример. Выполнить следующее:\n",
    "1. Создать вектор (одномерный массив) размера 10, заполненный \n",
    "нулями.\n",
    "2. Создать вектор размера 10, заполненный единицами.\n",
    "3. Создать вектор размера 10, заполненный заданным числом.\n",
    "4. Создать вектор со значениями от 10 до 19."
   ]
  },
  {
   "cell_type": "code",
   "execution_count": 7,
   "id": "1abff0f9",
   "metadata": {},
   "outputs": [
    {
     "name": "stdout",
     "output_type": "stream",
     "text": [
      "Вектор размера 10, заполненный нулями: [0. 0. 0. 0. 0. 0. 0. 0. 0. 0.]\n",
      "Вектор размера 10, заполненный единицами: [1. 1. 1. 1. 1. 1. 1. 1. 1. 1.]\n",
      "Вектор размера 10, заполненный числом 7 : [7 7 7 7 7 7 7 7 7 7]\n",
      "Вектор со значениями от 10 до 19: [10 11 12 13 14 15 16 17 18 19]\n"
     ]
    }
   ],
   "source": [
    "import numpy as np\n",
    "\n",
    "# 1. Создать вектор (одномерный массив) размера 10, заполненный нулями.\n",
    "vector_zeros = np.zeros(10)\n",
    "print(\"Вектор размера 10, заполненный нулями:\", vector_zeros)\n",
    "\n",
    "# 2. Создать вектор размера 10, заполненный единицами.\n",
    "vector_ones = np.ones(10)\n",
    "print(\"Вектор размера 10, заполненный единицами:\", vector_ones)\n",
    "\n",
    "# 3. Создать вектор размера 10, заполненный заданным числом.\n",
    "number = 7\n",
    "vector_custom = np.full(10, number)\n",
    "print(\"Вектор размера 10, заполненный числом\", number, \":\", vector_custom)\n",
    "\n",
    "# 4. Создать вектор со значениями от 10 до 19.\n",
    "vector_range = np.arange(10, 20)\n",
    "print(\"Вектор со значениями от 10 до 19:\", vector_range)\n"
   ]
  },
  {
   "cell_type": "markdown",
   "id": "1068ec10",
   "metadata": {},
   "source": [
    "1.2.3 Пример\n",
    "Создать массив 10x10 со случайными значениями, найти минимум, \n",
    "максимум и среднее значение.\n"
   ]
  },
  {
   "cell_type": "code",
   "execution_count": 9,
   "id": "ce1384ca",
   "metadata": {},
   "outputs": [
    {
     "name": "stdout",
     "output_type": "stream",
     "text": [
      "Минимум:  0.049437156818432526\n",
      "Максимум:  0.9981980000324839\n",
      "Среднее значение:  0.4975490637005521\n"
     ]
    }
   ],
   "source": [
    "import numpy as np\n",
    "\n",
    "# Создать массив 10x10 со случайными значениями\n",
    "arr = np.random.rand(10, 10)\n",
    "\n",
    "\n",
    "# Найти минимум, максимум и среднее значение\n",
    "minimum = np.min(arr)\n",
    "maximum = np.max(arr)\n",
    "mean = np.mean(arr)\n",
    "\n",
    "print(\"Минимум: \", minimum)\n",
    "print(\"Максимум: \", maximum)\n",
    "print(\"Среднее значение: \", mean)\n"
   ]
  },
  {
   "cell_type": "markdown",
   "id": "13f5e547",
   "metadata": {},
   "source": [
    "1.2.4 Пример\n",
    "Задать матрицу размерности 5 на 5 и поменять 2 строки в матрице\n",
    "местами."
   ]
  },
  {
   "cell_type": "code",
   "execution_count": 1,
   "id": "2937ed75",
   "metadata": {},
   "outputs": [
    {
     "name": "stdout",
     "output_type": "stream",
     "text": [
      "Исходная матрица:\n",
      " [[ 0  1  2  3  4]\n",
      " [ 5  6  7  8  9]\n",
      " [10 11 12 13 14]\n",
      " [15 16 17 18 19]\n",
      " [20 21 22 23 24]]\n",
      "Матрица после перестановки строк 1 и 3:\n",
      " [[ 0  1  2  3  4]\n",
      " [15 16 17 18 19]\n",
      " [10 11 12 13 14]\n",
      " [ 5  6  7  8  9]\n",
      " [20 21 22 23 24]]\n"
     ]
    }
   ],
   "source": [
    "import numpy as np\n",
    "\n",
    "# Задать матрицу размерности 5 на 5\n",
    "mat = np.arange(25).reshape(5, 5)\n",
    "print(\"Исходная матрица:\\n\", mat)\n",
    "\n",
    "# Поменять 2 строки в матрице местами\n",
    "mat[[1, 3]] = mat[[3, 1]]\n",
    "print(\"Матрица после перестановки строк 1 и 3:\\n\", mat)\n"
   ]
  },
  {
   "cell_type": "markdown",
   "id": "a7a7661f",
   "metadata": {},
   "source": [
    "1.2.5 Пример\n",
    "Выяснить результат следующих выражений:\n",
    "0 * np.nan\n",
    "np.nan == np.nan\n",
    "np.inf > np.nan\n",
    "np.nan - np.nan\n",
    "0.3 == 3 * 0.1\n"
   ]
  },
  {
   "cell_type": "code",
   "execution_count": 2,
   "id": "3bb20295",
   "metadata": {},
   "outputs": [
    {
     "name": "stdout",
     "output_type": "stream",
     "text": [
      "0 * np.nan = nan\n",
      "np.nan == np.nan = False\n",
      "np.inf > np.nan = False\n",
      "np.nan - np.nan = nan\n",
      "0.3 == 3 * 0.1 = False\n"
     ]
    }
   ],
   "source": [
    "import numpy as np\n",
    "\n",
    "print(\"0 * np.nan =\", 0 * np.nan)\n",
    "print(\"np.nan == np.nan =\", np.nan == np.nan)\n",
    "print(\"np.inf > np.nan =\", np.inf > np.nan)\n",
    "print(\"np.nan - np.nan =\", np.nan - np.nan)\n",
    "print(\"0.3 == 3 * 0.1 =\", 0.3 == 3 * 0.1)\n"
   ]
  },
  {
   "cell_type": "markdown",
   "id": "a3357429",
   "metadata": {},
   "source": [
    "1.2.6 Пример\n",
    "Отсортировать массив"
   ]
  },
  {
   "cell_type": "markdown",
   "id": "aac581c4",
   "metadata": {},
   "source": [
    "2.2.1 Пример\n",
    "Создать Series из списка Python, словаря Python, и массива Numpy\n",
    "(установить буквенные метки для последнего). "
   ]
  },
  {
   "cell_type": "code",
   "execution_count": null,
   "id": "bb004eb3",
   "metadata": {},
   "outputs": [],
   "source": [
    "import pandas as pd\n",
    "import numpy as np\n",
    "\n",
    "# Series из списка Python\n",
    "my_list = [10, 20, 30, 40, 50]\n",
    "s1 = pd.Series(my_list)\n",
    "print(\"Series из списка Python:\\n\", s1)\n",
    "\n",
    "# Series из словаря Python\n",
    "my_dict = {'a': 10, 'b': 20, 'c': 30, 'd': 40, 'e': 50}\n",
    "s2 = pd.Series(my_dict)\n",
    "print(\"\\nSeries из словаря Python:\\n\", s2)\n",
    "\n",
    "# Series из массива NumPy с метками\n",
    "my_array = np.array([10, 20, 30, 40, 50])\n",
    "my_labels = ['a', 'b', 'c', 'd', 'e']\n",
    "s3 = pd.Series(my_array, index=my_labels)\n",
    "print(\"\\nSeries из массива NumPy с метками:\\n\", s3)\n"
   ]
  },
  {
   "cell_type": "markdown",
   "id": "850aed7a",
   "metadata": {},
   "source": [
    "2.2.2 Пример\n",
    "Дано два Series. Напечатать их первые элементы и все элементы после \n",
    "третьего (во втором фрейме).\n"
   ]
  },
  {
   "cell_type": "code",
   "execution_count": 10,
   "id": "67d8a678",
   "metadata": {},
   "outputs": [
    {
     "name": "stdout",
     "output_type": "stream",
     "text": [
      "Первый элемент s1:  10\n",
      "Первый элемент s2:  100\n",
      "Элементы s2 после третьего:  d    400\n",
      "e    500\n",
      "dtype: int64\n"
     ]
    }
   ],
   "source": [
    "import pandas as pd\n",
    "\n",
    "# создаем первый Series\n",
    "s1 = pd.Series([10, 20, 30, 40, 50])\n",
    "\n",
    "# создаем второй Series\n",
    "s2 = pd.Series([100, 200, 300, 400, 500], index=['a', 'b', 'c', 'd', 'e'])\n",
    "\n",
    "# выводим первый элемент каждого Series\n",
    "print(\"Первый элемент s1: \", s1[0])\n",
    "print(\"Первый элемент s2: \", s2.iloc[0])  # используем метод .iloc для доступа по индексу\n",
    "\n",
    "# выводим все элементы после третьего во втором Series\n",
    "print(\"Элементы s2 после третьего: \", s2[3:])\n"
   ]
  },
  {
   "cell_type": "markdown",
   "id": "4fa2a194",
   "metadata": {},
   "source": [
    "2.2.3 Пример\n",
    "Создайте новый фрейм данных"
   ]
  },
  {
   "cell_type": "code",
   "execution_count": 11,
   "id": "1e60efa1",
   "metadata": {},
   "outputs": [
    {
     "name": "stdout",
     "output_type": "stream",
     "text": [
      "      name  age country\n",
      "0    Alice   25     USA\n",
      "1      Bob   32  Canada\n",
      "2  Charlie   18      UK\n",
      "3    David   47     USA\n",
      "4    Emily   22  Canada\n"
     ]
    }
   ],
   "source": [
    "import pandas as pd\n",
    "\n",
    "# создаем словарь с данными\n",
    "data = {'name': ['Alice', 'Bob', 'Charlie', 'David', 'Emily'],\n",
    "        'age': [25, 32, 18, 47, 22],\n",
    "        'country': ['USA', 'Canada', 'UK', 'USA', 'Canada']}\n",
    "\n",
    "# создаем фрейм данных из словаря\n",
    "df = pd.DataFrame(data)\n",
    "\n",
    "# выводим фрейм данных\n",
    "print(df)\n"
   ]
  },
  {
   "cell_type": "markdown",
   "id": "35adf960",
   "metadata": {},
   "source": [
    "2.2.4 Пример\n",
    "Загрузите фрейм данных по ссылке: \n",
    "https://raw.githubusercontent.com/chrisalbon/simulated_datasets/master/titan\n",
    "ic.csv"
   ]
  },
  {
   "cell_type": "code",
   "execution_count": 12,
   "id": "06a60a6d",
   "metadata": {},
   "outputs": [
    {
     "name": "stdout",
     "output_type": "stream",
     "text": [
      "                                            Name PClass    Age     Sex  \\\n",
      "0                   Allen, Miss Elisabeth Walton    1st  29.00  female   \n",
      "1                    Allison, Miss Helen Loraine    1st   2.00  female   \n",
      "2            Allison, Mr Hudson Joshua Creighton    1st  30.00    male   \n",
      "3  Allison, Mrs Hudson JC (Bessie Waldo Daniels)    1st  25.00  female   \n",
      "4                  Allison, Master Hudson Trevor    1st   0.92    male   \n",
      "\n",
      "   Survived  SexCode  \n",
      "0         1        1  \n",
      "1         0        1  \n",
      "2         0        0  \n",
      "3         0        1  \n",
      "4         1        0  \n"
     ]
    }
   ],
   "source": [
    "import pandas as pd\n",
    "\n",
    "# загружаем фрейм данных по ссылке\n",
    "url = 'https://raw.githubusercontent.com/chrisalbon/simulated_datasets/master/titanic.csv'\n",
    "df = pd.read_csv(url)\n",
    "\n",
    "# выводим первые 5 строк фрейм данных\n",
    "print(df.head())\n"
   ]
  },
  {
   "cell_type": "markdown",
   "id": "58726536",
   "metadata": {},
   "source": [
    "2.2.5 Пример\n",
    "Пронализировать характеристики фрейма данных.\n"
   ]
  },
  {
   "cell_type": "code",
   "execution_count": 14,
   "id": "64460097",
   "metadata": {},
   "outputs": [
    {
     "name": "stdout",
     "output_type": "stream",
     "text": [
      "                           Name PClass   Age     Sex  Survived  SexCode\n",
      "0  Allen, Miss Elisabeth Walton    1st  29.0  female         1        1\n",
      "1   Allison, Miss Helen Loraine    1st   2.0  female         0        1\n",
      "                  Name PClass   Age   Sex  Survived  SexCode\n",
      "1310  Zenni, Mr Philip    3rd  22.0  male         0        0\n",
      "1311  Lievens, Mr Rene    3rd  24.0  male         0        0\n",
      "1312    Zimmerman, Leo    3rd  29.0  male         0        0\n",
      "(1313, 6)\n",
      "              Age     Survived      SexCode\n",
      "count  756.000000  1313.000000  1313.000000\n",
      "mean    30.397989     0.342727     0.351866\n",
      "std     14.259049     0.474802     0.477734\n",
      "min      0.170000     0.000000     0.000000\n",
      "25%     21.000000     0.000000     0.000000\n",
      "50%     28.000000     0.000000     0.000000\n",
      "75%     39.000000     1.000000     1.000000\n",
      "max     71.000000     1.000000     1.000000\n"
     ]
    }
   ],
   "source": [
    "import pandas as pd\n",
    "\n",
    "# загружаем фрейм данных по ссылке\n",
    "url = 'https://raw.githubusercontent.com/chrisalbon/simulated_datasets/master/titanic.csv'\n",
    "df = pd.read_csv(url)\n",
    "\n",
    "# выводим первые 5 строк фрейм данных\n",
    "print(df.head(2))\n",
    "print (df.tail(3))\n",
    "print (df.shape)\n",
    "print (df.describe())"
   ]
  },
  {
   "cell_type": "markdown",
   "id": "911bf3ee",
   "metadata": {},
   "source": [
    "2.2.6 Пример\n",
    "Выберите индивидуальные данные или срезы фрейма данных"
   ]
  },
  {
   "cell_type": "code",
   "execution_count": 16,
   "id": "2026f678",
   "metadata": {},
   "outputs": [
    {
     "name": "stdout",
     "output_type": "stream",
     "text": [
      "                                            Name PClass   Age     Sex  \\\n",
      "1                    Allison, Miss Helen Loraine    1st   2.0  female   \n",
      "2            Allison, Mr Hudson Joshua Creighton    1st  30.0    male   \n",
      "3  Allison, Mrs Hudson JC (Bessie Waldo Daniels)    1st  25.0  female   \n",
      "\n",
      "   Survived  SexCode  \n",
      "1         0        1  \n",
      "2         0        0  \n",
      "3         0        1  \n"
     ]
    }
   ],
   "source": [
    "import pandas as pd\n",
    "\n",
    "# загружаем фрейм данных по ссылке\n",
    "url = 'https://raw.githubusercontent.com/chrisalbon/simulated_datasets/master/titanic.csv'\n",
    "df = pd.read_csv(url)\n",
    "\n",
    "print (df.iloc[1:4])"
   ]
  },
  {
   "cell_type": "markdown",
   "id": "ba0d426d",
   "metadata": {},
   "source": [
    "2.2.7 Пример Требуется отобрать строки фрейма данных на основе некоторого \n",
    "условия. Необходимо сформировать новый фрейм данных из пассажиров \n",
    "первого класса."
   ]
  },
  {
   "cell_type": "code",
   "execution_count": 18,
   "id": "f664a220",
   "metadata": {},
   "outputs": [
    {
     "name": "stdout",
     "output_type": "stream",
     "text": [
      "                           Name PClass   Age     Sex  Survived  SexCode\n",
      "0  Allen, Miss Elisabeth Walton    1st  29.0  female         1        1\n",
      "1   Allison, Miss Helen Loraine    1st   2.0  female         0        1\n"
     ]
    }
   ],
   "source": [
    "import pandas as pd\n",
    "\n",
    "# загружаем фрейм данных по ссылке\n",
    "url = 'https://raw.githubusercontent.com/chrisalbon/simulated_datasets/master/titanic.csv'\n",
    "df = pd.read_csv(url)\n",
    "\n",
    "print(df[df['PClass']=='1st'].head(2))"
   ]
  },
  {
   "cell_type": "markdown",
   "id": "c87441f1",
   "metadata": {},
   "source": [
    "3.2.1. Пример \n",
    "Прошкалируйте числовой признак в диапазон между двумя значениями.\n"
   ]
  },
  {
   "cell_type": "code",
   "execution_count": 19,
   "id": "39eef178",
   "metadata": {},
   "outputs": [
    {
     "name": "stdout",
     "output_type": "stream",
     "text": [
      "[[0.  ]\n",
      " [0.25]\n",
      " [0.5 ]\n",
      " [0.75]\n",
      " [1.  ]]\n"
     ]
    }
   ],
   "source": [
    "from sklearn.preprocessing import MinMaxScaler\n",
    "\n",
    "# создаем пример числового признака\n",
    "feature = np.array([10, 20, 30, 40, 50])\n",
    "\n",
    "# создаем объект MinMaxScaler и задаем диапазон\n",
    "scaler = MinMaxScaler(feature_range=(0, 1))\n",
    "\n",
    "# применяем метод fit_transform для масштабирования признака\n",
    "scaled_feature = scaler.fit_transform(feature.reshape(-1, 1))\n",
    "\n",
    "# выводим результат\n",
    "print(scaled_feature)\n"
   ]
  },
  {
   "cell_type": "markdown",
   "id": "8189ba4a",
   "metadata": {},
   "source": [
    "3.2.2. Пример\n",
    "Задача:\n",
    "Преобразуйте признак, чтобы он имел среднее значение 0 и стандартное \n",
    "отклонение 1."
   ]
  },
  {
   "cell_type": "code",
   "execution_count": 21,
   "id": "b5dd57ab",
   "metadata": {},
   "outputs": [
    {
     "name": "stdout",
     "output_type": "stream",
     "text": [
      "[[-1.41421356]\n",
      " [-0.70710678]\n",
      " [ 0.        ]\n",
      " [ 0.70710678]\n",
      " [ 1.41421356]]\n",
      "mean:  0\n",
      "standard diversion:  0.9999999999999999\n"
     ]
    }
   ],
   "source": [
    "from sklearn.preprocessing import StandardScaler\n",
    "\n",
    "# создаем пример числового признака\n",
    "feature = np.array([10, 20, 30, 40, 50])\n",
    "\n",
    "# создаем объект StandardScaler\n",
    "scaler = StandardScaler()\n",
    "\n",
    "# применяем метод fit_transform для преобразования признака\n",
    "scaled_feature = scaler.fit_transform(feature.reshape(-1, 1))\n",
    "\n",
    "# выводим результат\n",
    "print(scaled_feature)\n",
    "print(\"mean: \", round(scaled_feature.mean()))\n",
    "print(\"standard diversion: \", scaled_feature.std())"
   ]
  },
  {
   "cell_type": "markdown",
   "id": "9b04c207",
   "metadata": {},
   "source": [
    "3.2.3. Пример\n",
    "Задача:\n",
    "Дан фрейм данных \n",
    "dfTest = pd.DataFrame({'A':[14.00,90.20,90.95,96.27,91.21],\n",
    " 'B':[103.02,107.26,110.35,114.23,114.68],\n",
    " 'C':['big','small','big','small','small']})\n",
    "Необходимо масштабировать его числовые столбцы"
   ]
  },
  {
   "cell_type": "code",
   "execution_count": 22,
   "id": "1ab8388d",
   "metadata": {},
   "outputs": [
    {
     "name": "stdout",
     "output_type": "stream",
     "text": [
      "          A         B      C\n",
      "0  0.000000  0.000000    big\n",
      "1  0.926219  0.363636  small\n",
      "2  0.935335  0.628645    big\n",
      "3  1.000000  0.961407  small\n",
      "4  0.938495  1.000000  small\n"
     ]
    }
   ],
   "source": [
    "from sklearn.preprocessing import MinMaxScaler\n",
    "\n",
    "# создаем пример фрейма данных\n",
    "dfTest = pd.DataFrame({'A':[14.00,90.20,90.95,96.27,91.21], 'B':[103.02,107.26,110.35,114.23,114.68], 'C':['big','small','big','small','small']})\n",
    "\n",
    "# создаем объект MinMaxScaler\n",
    "scaler = MinMaxScaler()\n",
    "\n",
    "# применяем метод fit_transform для масштабирования числовых столбцов\n",
    "dfTest[['A', 'B']] = scaler.fit_transform(dfTest[['A', 'B']])\n",
    "\n",
    "# выводим результат\n",
    "print(dfTest)\n"
   ]
  },
  {
   "cell_type": "code",
   "execution_count": 9,
   "id": "2a3a6537",
   "metadata": {},
   "outputs": [
    {
     "name": "stdout",
     "output_type": "stream",
     "text": [
      "[[ 6 16 19 68]\n",
      " [18 27 30 51]\n",
      " [ 8 20 52 59]]\n"
     ]
    }
   ],
   "source": [
    "import numpy as np \n",
    "arr = np.random.randint(100, size= (3,4))\n",
    "sortedarr = np.sort(arr)\n",
    "print (sortedarr)"
   ]
  },
  {
   "cell_type": "markdown",
   "id": "0490a161",
   "metadata": {},
   "source": [
    "1.3.1 Создать 8x8 матрицу и заполнить её в шахматном порядке нулями и \n",
    "единицами.\n"
   ]
  },
  {
   "cell_type": "code",
   "execution_count": 1,
   "id": "69ac6f56",
   "metadata": {},
   "outputs": [
    {
     "name": "stdout",
     "output_type": "stream",
     "text": [
      "[[0 1 0 1 0 1 0 1]\n",
      " [1 0 1 0 1 0 1 0]\n",
      " [0 1 0 1 0 1 0 1]\n",
      " [1 0 1 0 1 0 1 0]\n",
      " [0 1 0 1 0 1 0 1]\n",
      " [1 0 1 0 1 0 1 0]\n",
      " [0 1 0 1 0 1 0 1]\n",
      " [1 0 1 0 1 0 1 0]]\n"
     ]
    }
   ],
   "source": [
    "import numpy as np\n",
    "chessboard = np.array([[0, 1], [1, 0]])\n",
    "matrix = np.tile(chessboard, (4, 4))\n",
    "print(matrix)"
   ]
  },
  {
   "cell_type": "markdown",
   "id": "64c26ef4",
   "metadata": {},
   "source": [
    "1.3.2  Создать 5x5 матрицу со значениями в строках от 0 до 4. Для создания \n",
    "необходимо использовать функцию arrange.\n"
   ]
  },
  {
   "cell_type": "code",
   "execution_count": 4,
   "id": "c4fe3803",
   "metadata": {},
   "outputs": [
    {
     "name": "stdout",
     "output_type": "stream",
     "text": [
      "[[0 0 0 0 0]\n",
      " [1 1 1 1 1]\n",
      " [2 2 2 2 2]\n",
      " [3 3 3 3 3]\n",
      " [4 4 4 4 4]]\n"
     ]
    }
   ],
   "source": [
    "import numpy as np \n",
    "arr = np.arange(5).repeat(5).reshape(5,5)\n",
    "print (arr)"
   ]
  },
  {
   "cell_type": "markdown",
   "id": "a9546c9d",
   "metadata": {},
   "source": [
    "Создать массив 3x3x3 со случайными значениями.\n"
   ]
  },
  {
   "cell_type": "code",
   "execution_count": 2,
   "id": "722a06b4",
   "metadata": {},
   "outputs": [
    {
     "name": "stdout",
     "output_type": "stream",
     "text": [
      "[[[0.67119476 0.60022523 0.74410939]\n",
      "  [0.17011342 0.41469894 0.65481703]\n",
      "  [0.45773163 0.09027598 0.98469849]]\n",
      "\n",
      " [[0.20055468 0.50065808 0.06368191]\n",
      "  [0.83426799 0.45638746 0.68082978]\n",
      "  [0.08631327 0.47226374 0.77082478]]\n",
      "\n",
      " [[0.18262902 0.38120006 0.30643677]\n",
      "  [0.10952953 0.00385538 0.21607768]\n",
      "  [0.28096716 0.88979272 0.58919585]]]\n"
     ]
    }
   ],
   "source": [
    "import numpy as np\n",
    "random_array = np.random.rand(3, 3, 3)\n",
    "print(random_array)"
   ]
  },
  {
   "cell_type": "markdown",
   "id": "d879fee6",
   "metadata": {},
   "source": [
    "1.3.4 Создать матрицу с 0 внутри, и 1 на границах."
   ]
  },
  {
   "cell_type": "code",
   "execution_count": 3,
   "id": "0335e5ad",
   "metadata": {},
   "outputs": [
    {
     "name": "stdout",
     "output_type": "stream",
     "text": [
      "[[1. 1. 1. 1. 1.]\n",
      " [1. 0. 0. 0. 1.]\n",
      " [1. 0. 0. 0. 1.]\n",
      " [1. 0. 0. 0. 1.]\n",
      " [1. 1. 1. 1. 1.]]\n"
     ]
    }
   ],
   "source": [
    "import numpy as np\n",
    "\n",
    "matrix = np.zeros((5, 5))\n",
    "\n",
    "matrix[0, :] = 1\n",
    "matrix[-1, :] = 1\n",
    "matrix[:, 0] = 1\n",
    "matrix[:, -1] = 1\n",
    "\n",
    "print(matrix)\n"
   ]
  },
  {
   "cell_type": "markdown",
   "id": "a71efd40",
   "metadata": {},
   "source": [
    "1.3.5  Создайте массив и отсортируйте его по убыванию."
   ]
  },
  {
   "cell_type": "code",
   "execution_count": 2,
   "id": "4a502f7b",
   "metadata": {},
   "outputs": [
    {
     "name": "stdout",
     "output_type": "stream",
     "text": [
      "[[2 9 2 6]\n",
      " [2 9 5 3]\n",
      " [2 3 2 9]\n",
      " [5 2 1 5]\n",
      " [6 6 5 4]]\n",
      "the sorted array in decreasing order: \n",
      "[[9 6 2 2]\n",
      " [9 5 3 2]\n",
      " [9 3 2 2]\n",
      " [5 5 2 1]\n",
      " [6 6 5 4]]\n"
     ]
    }
   ],
   "source": [
    "import numpy as np \n",
    "arr = np.random.randint(0, 10, (5, 4))\n",
    "print (arr )\n",
    "print (\"the sorted array in decreasing order: \")\n",
    "print (np.sort(arr, axis=1, kind = \"quicksort\")[:, ::-1])"
   ]
  },
  {
   "cell_type": "markdown",
   "id": "8a8df4c0",
   "metadata": {},
   "source": [
    "1.3.6 Создайте матрицу, выведите ее форму, размер и размерность."
   ]
  },
  {
   "cell_type": "code",
   "execution_count": 3,
   "id": "f16d43df",
   "metadata": {},
   "outputs": [
    {
     "name": "stdout",
     "output_type": "stream",
     "text": [
      "array size is  6\n",
      "array dimension is :  2\n",
      "array shape is :  (2, 3)\n"
     ]
    }
   ],
   "source": [
    "import numpy as np \n",
    "arr = np.array([[1,2,3], [4,5,6]])\n",
    "print (\"array size is \" , arr.size)\n",
    "print (\"array dimension is : \" , arr.ndim)\n",
    "print (\"array shape is : \" , arr.shape)"
   ]
  },
  {
   "cell_type": "markdown",
   "id": "87a2ac50",
   "metadata": {},
   "source": [
    "2-3-1 \n",
    "Найдитн евклидово расстояние между двумя Series (точками) a и b, не \n",
    "используя встроенную формулу.\n"
   ]
  },
  {
   "cell_type": "code",
   "execution_count": 4,
   "id": "ca58e94e",
   "metadata": {},
   "outputs": [
    {
     "name": "stdout",
     "output_type": "stream",
     "text": [
      "Расстояние между двумя Series (точками) a и b =  5.196152422706632\n"
     ]
    }
   ],
   "source": [
    "import numpy  as np \n",
    "import pandas as pd\n",
    "def evclid(a, b): \n",
    "    result = np.sqrt(np.sum((a-b)**2))\n",
    "    return result\n",
    "a = pd.Series([1,2,3])\n",
    "b = pd.Series([4,5,6])\n",
    "print ('Расстояние между двумя Series (точками) a и b = ', evclid(a,b))\n"
   ]
  },
  {
   "cell_type": "markdown",
   "id": "5ec61daf",
   "metadata": {},
   "source": [
    "2.3.2 Найдите в Интернете ссылку на любой csv файл и сформируйте из него \n",
    "фрейм данных"
   ]
  },
  {
   "cell_type": "code",
   "execution_count": 10,
   "id": "5305a239",
   "metadata": {},
   "outputs": [
    {
     "name": "stdout",
     "output_type": "stream",
     "text": [
      "First 5 rows are:\n",
      "    first_name  last_name                     email   gender   age\n",
      "0        John      Smith      john.smith@gmail.com     Male    25\n",
      "1        Jane        Doe      jane.doe@hotmail.com   Female    30\n",
      "2         Bob    Johnson            bobj@gmail.com     Male    40\n",
      "3       Alice   Williams       awilliams@yahoo.com   Female    35\n",
      "4     Michael      Brown   michael.brown@gmail.com     Male    45\n",
      "\n",
      "\n",
      "Last 5 rows are:\n",
      "    first_name   last_name                    email   gender   age\n",
      "5       Sarah       Davis   sarahdavis@hotmail.com   Female    28\n",
      "6       David         Lee       davidlee@gmail.com     Male    50\n",
      "7       Emily      Wilson   emily.wilson@yahoo.com   Female    32\n",
      "8       James      Taylor      jtaylor@hotmail.com     Male    27\n",
      "9   Elizabeth   Hernandez           lizh@yahoo.com   Female    38\n"
     ]
    }
   ],
   "source": [
    "\n",
    "import pandas as pd\n",
    "file = pd.read_csv('example.csv')\n",
    "print ('First 5 rows are:\\n', file.head())\n",
    "print (\"\\n\")\n",
    "print ('Last 5 rows are:\\n', file.tail())"
   ]
  },
  {
   "cell_type": "markdown",
   "id": "deaf33ba",
   "metadata": {},
   "source": [
    "2.3.3 => Проделайте с получившемся из предыдущего задания фреймом данных \n",
    "те же действия, что и в примерах 2.2.5-2.2.7."
   ]
  },
  {
   "cell_type": "code",
   "execution_count": 29,
   "id": "5edf6a90",
   "metadata": {},
   "outputs": [
    {
     "name": "stdout",
     "output_type": "stream",
     "text": [
      "example 2.2.5:\n",
      "\n",
      ">>first 2 rows:\n",
      "     first_name  last_name                  email   gender   age\n",
      "0        John      Smith   john.smith@gmail.com     Male    25\n",
      "1        Jane        Doe   jane.doe@hotmail.com   Female    30 \n",
      "\n",
      ">>Last 2 rows:\n",
      "     first_name   last_name                 email   gender   age\n",
      "8       James      Taylor   jtaylor@hotmail.com     Male    27\n",
      "9   Elizabeth   Hernandez        lizh@yahoo.com   Female    38 \n",
      "\n",
      ">>data shape:\n",
      "  (10, 5) \n",
      "\n",
      ">>data describe:\n",
      "               age\n",
      "count  10.000000\n",
      "mean   35.000000\n",
      "std     8.205689\n",
      "min    25.000000\n",
      "25%    28.500000\n",
      "50%    33.500000\n",
      "75%    39.500000\n",
      "max    50.000000 \n",
      "\n",
      "example 2.2.5:\n",
      "\n",
      ">>Selecting rows from 1 to 5:\n",
      "     first_name  last_name                     email   gender   age\n",
      "1        Jane        Doe      jane.doe@hotmail.com   Female    30\n",
      "2         Bob    Johnson            bobj@gmail.com     Male    40\n",
      "3       Alice   Williams       awilliams@yahoo.com   Female    35\n",
      "4     Michael      Brown   michael.brown@gmail.com     Male    45\n",
      "5       Sarah      Davis    sarahdavis@hotmail.com   Female    28 \n",
      "\n",
      "example 2.2.7:\n",
      "\n",
      "   first_name  last_name                     email  gender   age\n",
      "0        John      Smith      john.smith@gmail.com    Male    25\n",
      "2         Bob    Johnson            bobj@gmail.com    Male    40\n",
      "4     Michael      Brown   michael.brown@gmail.com    Male    45\n",
      "6       David        Lee        davidlee@gmail.com    Male    50\n",
      "8       James     Taylor       jtaylor@hotmail.com    Male    27\n"
     ]
    }
   ],
   "source": [
    "import pandas as pd\n",
    "file = pd.read_csv('example.csv')\n",
    "\n",
    "print (\"example 2.2.5:\\n\") \n",
    "print(\">>first 2 rows:\\n \", file.head(2), '\\n')\n",
    "print(\">>Last 2 rows:\\n \", file.tail(2), '\\n')\n",
    "print(\">>data shape:\\n \", file.shape, '\\n')\n",
    "print(\">>data describe:\\n \", file.describe(), '\\n')\n",
    "\n",
    "print (\"example 2.2.5:\\n\")  \n",
    "print (\">>Selecting rows from 1 to 5:\\n \", file.iloc[1:6], '\\n')\n",
    "\n",
    "\n",
    "print (\"example 2.2.7:\\n\") \n",
    "print (file[file[' gender']==' Male'])\n"
   ]
  },
  {
   "cell_type": "markdown",
   "id": "39b3b5f6",
   "metadata": {},
   "source": [
    "3.3.2\n",
    "Загрузить фрейм данных по ссылке:\n",
    "https://raw.githubusercontent.com/akmand/datasets/master/iris.csv.\n",
    "Необходимо выполнить нормализацию первого числового признака \n",
    "(sepal_length_cm) с использованием минимаксного преобразования, а \n",
    "второго (sepal_width_cm) с задействованием z-масштабирования."
   ]
  },
  {
   "cell_type": "code",
   "execution_count": 5,
   "id": "ddba1855",
   "metadata": {
    "scrolled": true
   },
   "outputs": [
    {
     "name": "stdout",
     "output_type": "stream",
     "text": [
      "   sepal_length_cm  sepal_width_cm  petal_length_cm  petal_width_cm species  \\\n",
      "0              5.1             3.5              1.4             0.2  setosa   \n",
      "1              4.9             3.0              1.4             0.2  setosa   \n",
      "2              4.7             3.2              1.3             0.2  setosa   \n",
      "3              4.6             3.1              1.5             0.2  setosa   \n",
      "4              5.0             3.6              1.4             0.2  setosa   \n",
      "\n",
      "   sepal_length_cm_normalized  sepal_width_cm_normalized  \n",
      "0                    0.222222                   1.032057  \n",
      "1                    0.166667                  -0.124958  \n",
      "2                    0.111111                   0.337848  \n",
      "3                    0.083333                   0.106445  \n",
      "4                    0.194444                   1.263460  \n"
     ]
    }
   ],
   "source": [
    "Стандартное масштабирование (standard scaling) - это метод нормализации данных, при котором среднее значение \n",
    "всех значений данных становится равным нулю, а стандартное отклонение - единице. Этот метод используется\n",
    "для приведения значений разных признаков к одному масштабу, \n",
    "что может улучшить производительность моделей машинного обучения.\n",
    "\n",
    "Мин-макс масштабирование (min-max scaling) - это еще один метод \n",
    "нормализации данных. В этом методе значения данных приводятся к диапазону от 0 до 1. \n",
    "Этот метод также используется для приведения значений разных признаков к одному масштабу и \n",
    "улучшения производительности моделей машинного обучения.\n",
    "\n",
    "import pandas as pd\n",
    "from sklearn.preprocessing import MinMaxScaler, StandardScaler\n",
    "# загрузить фрейм данных\n",
    "url = 'https://raw.githubusercontent.com/akmand/datasets/master/iris.csv'\n",
    "df = pd.read_csv(url)\n",
    "\n",
    "# создать объекты преобразования\n",
    "scaler1 = MinMaxScaler()\n",
    "scaler2 = StandardScaler()\n",
    "\n",
    "# применить нормализацию для первого признака\n",
    "df['sepal_length_cm_normalized'] = scaler1.fit_transform(df[['sepal_length_cm']])\n",
    "\n",
    "# применить z-масштабирование для второго признака\n",
    "df['sepal_width_cm_normalized'] = scaler2.fit_transform(df[['sepal_width_cm']])\n",
    "\n",
    "# вывести первые 5 строк фрейма данных\n",
    "print(df.head())\n",
    "\n",
    "\n",
    "\n",
    "\n",
    "# import pandas as pd \n",
    "# from sklearn.preprocessing import MinMaxScaler\n",
    "\n",
    "# file = pd.read_csv('lasttask.csv') \n",
    "# target = file[['petal_length_cm', 'petal_width_cm']]\n",
    "\n",
    "# scaler = MinMaxScaler()\n",
    "# target_copy = target.copy()  # create a copy of the selected columns\n",
    "# target_copy[['petal_length_cm', 'petal_width_cm']] = scaler.fit_transform(target_copy[['petal_length_cm', 'petal_width_cm']])\n",
    "\n",
    "# print(target_copy)"
   ]
  }
 ],
 "metadata": {
  "kernelspec": {
   "display_name": "Python 3 (ipykernel)",
   "language": "python",
   "name": "python3"
  },
  "language_info": {
   "codemirror_mode": {
    "name": "ipython",
    "version": 3
   },
   "file_extension": ".py",
   "mimetype": "text/x-python",
   "name": "python",
   "nbconvert_exporter": "python",
   "pygments_lexer": "ipython3",
   "version": "3.10.5"
  }
 },
 "nbformat": 4,
 "nbformat_minor": 5
}
