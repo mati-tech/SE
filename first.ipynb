{
 "cells": [
  {
   "cell_type": "markdown",
   "id": "238b8b79",
   "metadata": {},
   "source": [
    "1.3 >> Выведите на печать и определите тип переменной.\n"
   ]
  },
  {
   "cell_type": "code",
   "execution_count": 5,
   "id": "4731c169",
   "metadata": {},
   "outputs": [
    {
     "name": "stdout",
     "output_type": "stream",
     "text": [
      "True | <class 'bool'> \n",
      " {8, 1, 3, 7} | <class 'set'> \n",
      " {2, 4, 5, 'apple', 10} | <class 'set'> \n",
      " set() | <class 'set'> \n",
      " Антонова Антонина | <class 'str'> \n",
      " type | <class 'str'> \n",
      " [1, 'title', 2, 'content'] | <class 'list'> \n",
      "\n"
     ]
    }
   ],
   "source": [
    "x = (5 >= 2)\n",
    "A = {1,3,7,8}\n",
    "B = {2,4,5,10,'apple'} \n",
    "C = (A & B) \n",
    "df = 'Антонова Антонина'\n",
    "z = 'type' \n",
    "D = [1, 'title' , 2, 'content'] \n",
    "\n",
    "print (x,  '|' , type(x), '\\n', \n",
    "      A,  '|' , type(A), '\\n', \n",
    "      B,  '|' , type(B), '\\n',\n",
    "      C,  '|' , type(C), '\\n', \n",
    "      df,  '|' , type(df), '\\n', \n",
    "      z,  '|' , type(z), '\\n',\n",
    "      D,  '|' , type(D), '\\n', )\n"
   ]
  },
  {
   "cell_type": "markdown",
   "id": "78b5a902",
   "metadata": {},
   "source": [
    "2.3 Напишите код. Задается х, напечатать какому из интервалов\n",
    "принадлежит: (-infinity, -5), [-5, 5] или от (5, +infinity)\n"
   ]
  },
  {
   "cell_type": "code",
   "execution_count": 6,
   "id": "f93fa1e5",
   "metadata": {},
   "outputs": [
    {
     "name": "stdout",
     "output_type": "stream",
     "text": [
      "х принадлежит на интервале (5, +infinity)\n"
     ]
    }
   ],
   "source": [
    "x = 123\n",
    "if x < -5 : \n",
    "    print ('х принадлежит на интервале (-infinity, -5)')\n",
    "elif (x >= -5) &( x <=5) : \n",
    "    print ('х принадлежит на интервале [-5, 5]')\n",
    "else: \n",
    "    print ('х принадлежит на интервале (5, +infinity)')\n"
   ]
  },
  {
   "cell_type": "markdown",
   "id": "94ce6974",
   "metadata": {},
   "source": [
    "3.3.1 Выведите числа из примера на while (3.2.1) в обратном порядке.\n"
   ]
  },
  {
   "cell_type": "code",
   "execution_count": 1,
   "id": "be2ca905",
   "metadata": {},
   "outputs": [
    {
     "name": "stdout",
     "output_type": "stream",
     "text": [
      "10\n",
      "1\n",
      "4\n",
      "7\n"
     ]
    }
   ],
   "source": [
    "a = [1, 4, 7, 10]\n",
    "z=a[::-1]\n",
    "x = 0\n",
    "inv = -1\n",
    "while x < len(a) :\n",
    "    print(a[inv])\n",
    "    x += 1 \n",
    "    inv -= -1"
   ]
  },
  {
   "cell_type": "markdown",
   "id": "5b6c1dd1",
   "metadata": {},
   "source": [
    "3.3.2 При решении задач машинного обучения часто в качестве объектов\n",
    "исследования выступает человек. Создайте список значимых\n",
    "характеристик (признаков), идентифицирующих человека. Выведите\n",
    "список на экран"
   ]
  },
  {
   "cell_type": "code",
   "execution_count": 8,
   "id": "92827aa8",
   "metadata": {},
   "outputs": [
    {
     "name": "stdout",
     "output_type": "stream",
     "text": [
      "['name', 'surname', 'age', 'phone number', 'address']\n"
     ]
    }
   ],
   "source": [
    "A = ['name','surname','age', 'phone number', 'address', ]\n",
    "print (A)"
   ]
  },
  {
   "cell_type": "markdown",
   "id": "bd65d547",
   "metadata": {},
   "source": [
    "3.3.3 Создать список чисел от 2 до 15 с шагом 1."
   ]
  },
  {
   "cell_type": "code",
   "execution_count": 10,
   "id": "a06433c5",
   "metadata": {},
   "outputs": [
    {
     "name": "stdout",
     "output_type": "stream",
     "text": [
      "[2, 3, 4, 5, 6, 7, 8, 9, 10, 11, 12, 13, 14]\n"
     ]
    }
   ],
   "source": [
    "a = range(2,15,1)\n",
    "print (list(a))"
   ]
  },
  {
   "cell_type": "markdown",
   "id": "7a2230a3",
   "metadata": {},
   "source": [
    "3.3.4 Выведите числа из примера на for c функцией range() (3.2.4) в\n",
    "обратном порядке."
   ]
  },
  {
   "cell_type": "code",
   "execution_count": 5,
   "id": "b6d5a8aa",
   "metadata": {},
   "outputs": [
    {
     "name": "stdout",
     "output_type": "stream",
     "text": [
      "105\n",
      "80\n",
      "55\n",
      "30\n"
     ]
    }
   ],
   "source": [
    "#a = [5, 30 , 55, 80 , 105 ] \n",
    "for i in range(105,6,-25):\n",
    "    print(i)"
   ]
  },
  {
   "cell_type": "markdown",
   "id": "f89e4fc3",
   "metadata": {},
   "source": [
    "3.3.5 Срез. Напишите код, который все элементы массива x с четными \n",
    "индексами переставит в обратном порядке. Т.е. если x = [0, 1, 2, 3, 4, \n",
    "5, 6, 7, 8, 9], то код должен сформировать [8, 1, 6, 3, 4, 5, 2, 7, 0, 9]."
   ]
  },
  {
   "cell_type": "code",
   "execution_count": 17,
   "id": "1f9faad9",
   "metadata": {},
   "outputs": [
    {
     "name": "stdout",
     "output_type": "stream",
     "text": [
      "[8, 1, 6, 3, 4, 5, 2, 7, 0, 9]\n"
     ]
    }
   ],
   "source": [
    "\n",
    "x = [0,1,2,3,4,5,6,7,8,9] \n",
    "x[::2]=x[::2][::-1]\n",
    "even = x[::2] \n",
    "even.reverse()\n",
    "\n",
    "for i in range (len(even)):\n",
    "    x[2*i]= even[i] \n",
    "print (x)\n"
   ]
  },
  {
   "cell_type": "markdown",
   "id": "b1e43572",
   "metadata": {},
   "source": [
    "4-3-1 Задайте массив случайных значений из интервала(0; 1). \n",
    "Рассчитайте средние и медианные значения для массива, сравните \n",
    "результаты, какие выводы можно сделать о значениях? \n",
    "Постройте точечную диаграмму рассения полученного ряда.\n"
   ]
  },
  {
   "cell_type": "code",
   "execution_count": 2,
   "id": "ac9d5990",
   "metadata": {},
   "outputs": [
    {
     "name": "stdout",
     "output_type": "stream",
     "text": [
      "Среднее значение:  0.4683034477741824\n",
      "Медианное значение:  0.45515904373524757\n"
     ]
    },
    {
     "data": {
      "image/png": "[encoded data removed]",
      "text/plain": [
       "<Figure size 432x288 with 1 Axes>"
      ]
     },
     "metadata": {
      "needs_background": "light"
     },
     "output_type": "display_data"
    }
   ],
   "source": [
    "\n",
    "import numpy as np\n",
    "import matplotlib.pyplot as plt\n",
    "\n",
    "# Создание массива случайных значений\n",
    "arr = np.random.uniform(0, 1, size=100)\n",
    "\n",
    "# Вычисление среднего и медианного значений\n",
    "mean = np.mean(arr)\n",
    "median = np.median(arr)\n",
    "\n",
    "print(\"Среднее значение: \", mean)\n",
    "print(\"Медианное значение: \", median)\n",
    "\n",
    "# Построение точечной диаграммы рассения\n",
    "fig, ax = plt.subplots()\n",
    "ax.scatter(range(len(arr)), arr)\n",
    "\n",
    "# Добавление среднего и медианного значений на график\n",
    "ax.axhline(mean, color='r', linestyle='--', label='Среднее значение')\n",
    "ax.axhline(median, color='g', linestyle='--', label='Медианное значение')\n",
    "ax.legend()\n",
    "\n",
    "plt.show()"
   ]
  },
  {
   "cell_type": "markdown",
   "id": "078c2ded",
   "metadata": {},
   "source": [
    "4.3.2 => Создать массив из 10 значений \n",
    "функции (𝑥, например, изменяется от 1 до 10). Выделить срез первой \n",
    "половины массива и построить графики для основного массива –\n",
    "линейный и для среза – точечный"
   ]
  },
  {
   "cell_type": "code",
   "execution_count": 2,
   "id": "1dd6b22f",
   "metadata": {},
   "outputs": [
    {
     "data": {
      "image/png": "[encoded data removed]",
      "text/plain": [
       "<Figure size 432x288 with 1 Axes>"
      ]
     },
     "metadata": {
      "needs_background": "light"
     },
     "output_type": "display_data"
    }
   ],
   "source": [
    "import numpy as np \n",
    "import matplotlib.pyplot as plt \n",
    "import random as rn \n",
    "x = np.linspace(1, 10,10 ) \n",
    "y = (np.sqrt(1+ np.e**(x**(1/2)))+ np.cos(x**2))/ (np.abs(1-np.sin(x)**3)) + np.log(np.abs(2*x)) \n",
    "\n",
    "plt.plot (x, y ,label  = \"main function\")\n",
    "\n",
    "xslice = x [:len(x)//2]\n",
    "yslice = y [:len(y)//2]\n",
    "\n",
    "plt.plot (xslice, yslice, 'ro', label = 'slice points')\n",
    "plt.xlabel('x') \n",
    "plt.ylabel('y')\n",
    "\n",
    "plt.legend()\n",
    "plt.show() "
   ]
  },
  {
   "cell_type": "code",
   "execution_count": null,
   "id": "6ce87844",
   "metadata": {},
   "outputs": [],
   "source": [
    "4.3.3 Дана функция |cos(𝑥𝑒\n",
    "(cos(𝑥)+ln(𝑥+1))\n",
    ")| Построить график на \n",
    "интервале (0,10) с шагом 1 с заливкой площади и найти эту площадь \n",
    "под ним. Для вычисления площади воспользуйте функции trapz(), \n",
    "вычисляющей интеграл по правилу трапеции.\n",
    "Для ее корректной работы необходимо подключить следующие \n",
    "библиотеки:\n",
    "from scipy.integrate import simps\n",
    "from numpy import trapz"
   ]
  },
  {
   "cell_type": "code",
   "execution_count": 4,
   "id": "e8fa3f11",
   "metadata": {},
   "outputs": [
    {
     "name": "stdout",
     "output_type": "stream",
     "text": [
      "The area under the curve is :  2.450559086204586\n"
     ]
    },
    {
     "data": {
      "image/png": "[encoded data removed]",
      "text/plain": [
       "<Figure size 432x288 with 1 Axes>"
      ]
     },
     "metadata": {
      "needs_background": "light"
     },
     "output_type": "display_data"
    }
   ],
   "source": [
    "\n",
    "from numpy import trapz \n",
    "import numpy as np\n",
    "import matplotlib.pyplot as plt\n",
    "\n",
    "x = np.arange (1, 11, 1) \n",
    "y = np.abs(np.cos(x * np.e ** (np.cos(x)+ np.log(x+1))))\n",
    "\n",
    "\n",
    "plt.plot (x, y , label = \"Graph\", )\n",
    "plt.fill_between(x, y , color = 'darkred')\n",
    "area = trapz(x, y)\n",
    "\n",
    "print (\"The area under the curve is : \" , area)\n",
    "\n",
    "plt.xlabel(\"x\")\n",
    "plt.ylabel (\"y\")\n",
    "plt.legend()\n",
    "plt.show ()"
   ]
  },
  {
   "cell_type": "markdown",
   "id": "b707f609",
   "metadata": {},
   "source": [
    "4.3.4 Откройте статистические данные по стоимости акций Apple, \n",
    "Microsoft, Google за 12 месяцев 2021 г. Постройте 3 графика на \n",
    "плоскости и оцените их динамику. Подумайте, как можно улучшить \n",
    "читаемость результатов.\n",
    "Для начальных данных допустимо использовать следующий ресурс: \n",
    "https://finance.yahoo.com"
   ]
  },
  {
   "cell_type": "code",
   "execution_count": 1,
   "id": "df3caa52",
   "metadata": {},
   "outputs": [
    {
     "data": {
      "image/png": "[encoded data removed]",
      "text/plain": [
       "<Figure size 432x288 with 1 Axes>"
      ]
     },
     "metadata": {
      "needs_background": "light"
     },
     "output_type": "display_data"
    }
   ],
   "source": [
    "\n",
    "import pandas as pd \n",
    "import numpy as np \n",
    "\n",
    "dates = pd.date_range('2021-01-01', '2021-12-31', freq = 'MS') \n",
    "prices = np.random.randint(100, 200, size = (12,3))\n",
    "df = pd.DataFrame(prices, columns = ['AAPL', \"MSFT\", \"GOOGL\"]) \n",
    "\n",
    "import matplotlib.pyplot as plt \n",
    "plt.plot (df['AAPL'], label ='Apple')\n",
    "plt.plot (df['MSFT'], label ='Microsoft')\n",
    "plt.plot (df['GOOGL'], label ='Google')\n",
    "plt.xlabel ('Date')\n",
    "plt.ylabel ('Stock Price (USD)')\n",
    "plt.title('Stock Prices for Apple, Microsoft and Google in 2021')\n",
    "plt.legend()\n",
    "plt.ticklabel_format(axis= 'y',style = 'plain')\n",
    "plt.show() \n"
   ]
  },
  {
   "cell_type": "markdown",
   "id": "458f7eda",
   "metadata": {},
   "source": [
    "4.3.4 Создайте простейший калькулятор, включающий основные действия \n",
    "для двух переменных ′ + ′, ′ − ′, ′ ∙ ′, ′ ÷ ′, а также вычисление \n",
    "следующих функций: 𝑒\n",
    "𝑥+𝑦\n",
    ", sin(𝑥 + 𝑦) , cos(𝑥 + 𝑦) , 𝑥\n",
    "𝑦\n",
    "."
   ]
  },
  {
   "cell_type": "code",
   "execution_count": 2,
   "id": "ce5891c1",
   "metadata": {},
   "outputs": [
    {
     "name": "stdout",
     "output_type": "stream",
     "text": [
      "A simple calculator\n",
      "\n",
      "Enter first number: 34\n",
      "\n",
      "Enter second number: 2\n",
      "Select what to do: \n",
      " 1: Addition \n",
      " 2: Subtraction \n",
      " 3: Multiplication \n",
      " 4: division \n",
      " 5: power \n",
      " 6: e^(sin(a)+cos(b)) \n",
      " 7: sin(a+b) \n",
      " 8: cos(a+b) \n",
      "\n",
      "1\n",
      "Sum of  34.0  +  2.0 = 36.0\n"
     ]
    }
   ],
   "source": [
    "\n",
    "\n",
    "\n",
    "# A simple calc \n",
    "import numpy as np\n",
    "def add(a, b): \n",
    "    return a+ b\n",
    "def sub(a, b) : \n",
    "    return a-b \n",
    "def mult(a,b): \n",
    "    return a*b\n",
    "def div(a,b) : \n",
    "    return a/b\n",
    "def pow(a, b ) : \n",
    "    return a** b\n",
    "def e(a,b) : \n",
    "    return np.e**(a+b) \n",
    "def sin (a,b) : \n",
    "    return np.sin(a+b) \n",
    "def cos(a,b): \n",
    "    return np.cos(a+b) \n",
    "\n",
    "\n",
    "print (\"A simple calculator\\n\")\n",
    "fnum= float(input(\"Enter first number: \"))\n",
    "snum = float(input(\"\\nEnter second number: \"))\n",
    "print (\"Select what to do: \\n 1: Addition \\n 2: Subtraction \\n 3: Multiplication \\n 4: division \\n 5: power \\n 6: e^(sin(a)+cos(b)) \\n 7: sin(a+b) \\n 8: cos(a+b) \\n\")\n",
    "choice= int (input())\n",
    "if choice == 1: \n",
    "    print (\"Sum of \", fnum , \" + \", snum , \"=\" , add(fnum, snum))\n",
    "elif choice == 2:\n",
    "    print (\"Difference of \", fnum , \" - \", snum , \"=\", sub(fnum, snum))\n",
    "elif choice == 3:\n",
    "    print (\"multiplicity of \", fnum , \" * \", snum , \"=\", mult(fnum, snum))\n",
    "elif choice == 4:\n",
    "    if snum == 0:\n",
    "        print (\"number divided by zero is infinity!\")\n",
    "    else:\n",
    "        print (\"division of \", fnum , \" / \", snum , \"=\", div(fnum, snum))\n",
    "elif choice == 5:\n",
    "    print (fnum, \" to the power of \", snum, \" = \" , pow(fnum, snum))\n",
    "elif choice == 6: \n",
    "    print (\"e^(\", fnum, \"+\", snum,\") = \" , e(fnum, snum)) \n",
    "elif choice == 7:\n",
    "    print (\"sin (\",fnum , \"+\", snum,\")\" \" = \" , sin (fnum, snum))\n",
    "elif choice == 8:\n",
    "    print (\"cos (\",fnum , \"+\", snum,\")\" \" = \" , cos (fnum, snum))\n",
    "    "
   ]
  },
  {
   "cell_type": "code",
   "execution_count": null,
   "id": "7f7af7a2",
   "metadata": {},
   "outputs": [],
   "source": []
  }
 ],
 "metadata": {
  "kernelspec": {
   "display_name": "Python 3 (ipykernel)",
   "language": "python",
   "name": "python3"
  },
  "language_info": {
   "codemirror_mode": {
    "name": "ipython",
    "version": 3
   },
   "file_extension": ".py",
   "mimetype": "text/x-python",
   "name": "python",
   "nbconvert_exporter": "python",
   "pygments_lexer": "ipython3",
   "version": "3.10.5"
  }
 },
 "nbformat": 4,
 "nbformat_minor": 5
}
