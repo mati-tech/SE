{
 "cells": [
  {
   "cell_type": "markdown",
   "id": "8bb8ae9e",
   "metadata": {},
   "source": [
    "Деревья решений являются одним из наиболее эффективных \n",
    "инструментов интеллектуального анализа данных и предсказательной \n",
    "аналитики, которые позволяют решать задачи классификации и регрессии.\n",
    "Перед тем как непосредственно перейти к решению задач с \n",
    "использование данного инструмента рассмотрим общее понятие \"дерево\" в \n",
    "информатике и способы задания деревьев в языке Python.\n",
    "Деревья принадлежат к числу основных структур данных, \n",
    "используемых в программировании. Древовидная структура является \n",
    "одним из способов представления иерархической структуры в графическом \n",
    "виде. Такое название она получила потому, что граф выглядит как \n",
    "перевернутое дерево. Корень дерева (корневой узел) находится на самом \n",
    "верху, а листья (потомки) — внизу.\n",
    "Деревья широко применяются в компьютерных технологиях. \n",
    "Примером является файловая система, представляющая собой \n",
    "иерархическую структуру из файлов и каталогов.\n",
    "Схематично дерево и его основные элементы приведены на рисунке \n",
    "ниже.\n",
    "На рисунке изображены родительские отношения (ребра, ветви \n",
    "дерева) между узлами (вершинами) дерева. На верхнем уровне каждый \n",
    "«родитель» указывает на своих «потомков». То есть в этой иерархической \n",
    "структуре вершина всегда «знает» своих потомков.\n",
    "Для того чтобы более точно оперировать структурой Дерево, нужно \n",
    "дать определение некоторым ключевым понятиям:\n",
    "− корневой узел — самый верхний узел дерева, он не имеет \n",
    "предков;\n",
    "− лист, листовой или терминальный узел — конечный узел, то \n",
    "есть не имеющий потомков;\n",
    "− внутренний узел — любой узел дерева, имеющий потомков, то \n",
    "есть не лист.\n",
    "С корневого узла начинается выполнение большинства операций над \n",
    "деревом. Чтобы получить доступ к любому элементу структуры, \n",
    "необходимо, переходя по ветвям, перебирать элементы, начиная с головы \n",
    "— корневого узла. Корневой узел — это своеобразный вход в дерево. \n",
    "Большинство алгоритмов работы с деревом строятся на том, что каждый \n",
    "узел дерева рассматриваются как корневой узел поддерева, «растущего» из \n",
    "этого узла. Такой подход дает возможность зацикливать выполнение \n",
    "операций при прохождении по элементам дерева. Но в связи с тем, что при \n",
    "прохождении по дереву (в отличие от массива) неизвестно сколько шагов \n",
    "будет в этом цикле, используется другой инструмент — рекурсивный вызов.\n",
    "Двоичное (бинарное) дерево — это древовидная структура данных, \n",
    "где каждый узел имеет не более двух детей. Этих детей называют левым (Л) \n",
    "и правым (П) потомком или «сыном». На рисунке выше дерево является \n",
    "двоичным."
   ]
  },
  {
   "cell_type": "markdown",
   "id": "8bfa169c",
   "metadata": {},
   "source": [
    "1.1. Теоретический материал – Основы объектно\u0002ориентированного программирования в Python\n",
    "\n",
    "В предыдущих разделах мы рассматривали в основном традиционное \n",
    "программирование на Python, когда вся программа разбивается (или не \n",
    "разбивается) на отдельные модули, содержащие функции. Такое \n",
    "программирование соответствует парадигме структурного \n",
    "программирования. Само структурное программирование оказалось \n",
    "колоссальным шагом в построении программ. Однако еще большим шагом \n",
    "является парадигма объектно-ориентированного программирования. В этом \n",
    "подходе программа состоит из отдельных классов, которые объединяют в \n",
    "себе как переменные, называемые полями класса, так и функции, \n",
    "называемые методами класса.\n",
    "На самом деле мы уже сталкивались с классами, когда создавали \n",
    "объекты для решения задач классификации и регрессии в Scikit-learn. В \n",
    "данном разделе подробнее познакомимся с основами объектно\u0002ориентированного программирования (ООП).\n",
    "Объектно-ориентированное программирование состоит из трех китов:\n",
    "− инкапсуляция;\n",
    "− наследование;\n",
    "− полиморфизм.\n",
    "Рассмотрим на примерах эти понятия. Первое - инкапсуляция - это \n",
    "объединение в одном объекте данных и программного кода таким образом, \n",
    "что для внешней работы внутренняя часть объекта может быть скрыта от \n",
    "пользователя. Инкапсуляция может быть реализована не только с помощью \n",
    "классов, но и с помощью модулей, но классы позволяют сделать \n",
    "инкапсуляцию естественным путем. Создадим класс в Python. Для этого \n",
    "необходимо определить класс (новый тип данных) и создать объект, \n",
    "называемый экземпляром класса. Мы рекомендуем имена классов начинать \n",
    "с заглавной буквы \"T\", подчеркивая тем самым, что речь идет о типе данных. \n",
    "Делается это так:\n",
    "class TAnimal:\n",
    " name = \"\"\n",
    " def __init__(self, name):\n",
    " self.name = name\n",
    " def say(self):\n",
    " print(self.name)\n",
    "Теперь создадим экземпляр этого класса. Экземпляр класса \n",
    "представляет собой переменную, с которой можно работать обычным \n",
    "образом.\n",
    "Animal = TAnimal(\"Обезьяна\")\n",
    "Animal.say()\n",
    "Рассмотрим синтаксис Python при создании классов. Все начинается с \n",
    "ключевого слова class. Далее в блоке из отступов мы определяем \n",
    "переменные, которые будем называть полями и функции, которые \n",
    "называются методами. Методы определяются, как обычные функции и \n",
    "могут возвращать значения. Единственное отличие состоит в том, что у всех \n",
    "методов есть обязательный первый параметр, который по традиции всегда \n",
    "называем self в котором передается ссылка на экземпляр класса. Поэтому \n",
    "когда внутри класса метод хочет обратиться к своему полю, то необходимо \n",
    "использовать конструкцию self.name. Заметим, что при вызове методов мы \n",
    "первый параметр не задаем.\n",
    "Далее, у каждого класса есть метод, с именем __init__, который \n",
    "называется конструктором класса. Этот метод вызывается в момент \n",
    "создания экземпляра Animal = TAnimal(\"Обезьяна\"). Конструктор может \n",
    "иметь любое количество параметров. Предположим, что теперь нам нужно \n",
    "сделать класс для описания конкретного животного - кошки. Для это мы \n",
    "используем наследование классов, когда можно определять новые классы, \n",
    "как наследники существующих. При этом новый класс будет иметь все поля \n",
    "и методы наследуемого класса. Вот как это делается:\n",
    "class TAnimal:\n",
    " name = \"\"\n",
    " def __init__(self, name):\n",
    " self.name = name\n",
    " def say(self):\n",
    " print(self.name)\n",
    "class TCat(TAnimal):\n",
    " def may(self):\n",
    " print(\"Мяу!\")\n",
    "Cat = TCat(\"Кошка\")\n",
    "Cat.say()\n",
    "Cat.may()\n",
    "Мы видим, что у наследованного класса сохранился конструктор и \n",
    "метод say. В последнем примере мы выдели, что наследный класс, также как \n",
    "и исходный имеет конструктор, который принимает в качестве параметра -\n",
    "название животного тогда, что в данном случае излишне. Для решения этой \n",
    "проблемы мы воспользуемся объектно-ориентированным механизмом -\n",
    "полиморфизмом. Полиморфизм - это возможность замены методов при \n",
    "наследовании. Сделаем так, чтобы не нужно было передавать в конструкторе \n",
    "название \"Кошка\".\n",
    "class TCat(TAnimal):\n",
    " def __init__(self):\n",
    " super().__init__(\"Кошка\")\n",
    " def may(self):\n",
    " print(\"Мяу!\")\n",
    "Cat = TCat()\n",
    "Cat.say()\n",
    "Cat.may()\n",
    "Результат выполнения этой программы будет аналогичный, но теперь \n",
    "при использовании этого класса нам не нужно передавать в конструкторе \n",
    "никаких параметров. Полиморфное перекрытие методов делается простым \n",
    "объявлением метода (в данном случае конструктора). При этом нельзя\n",
    "можно менять входные параметры. Если в результате написания кода метода \n",
    "возникает необходимость вызвать перекрытый метод, то для этого \n",
    "необходимо использовать функцию super(), которая по сути просто \n",
    "возвращает ссылку на родительский класс. Самое удивительное в \n",
    "полиморфизме, что изменяя метод, он меняется даже когда на него есть \n",
    "ссылки родительского класса. Рассмотрим еще один пример. Пусть у нас \n",
    "есть класс:\n",
    "class TDo:\n",
    " def Operation(self, x, y):\n",
    " return x + y\n",
    " def Run(self):\n",
    " x = int(input(\"Enter x > \"))\n",
    " y = int(input(\"Enter y > \"))\n",
    " z = self.Operation(x, y)\n",
    " print(\"Result = \" + z.__str__())\n",
    "Do = TDo()\n",
    "Do.Run()\n",
    "С помощью полиморфизма заменим функцию Operation на другую в \n",
    "наследном классе:\n",
    "class TDo2(TDo):\n",
    " def Operation(self, x, y):\n",
    " return x * y"
   ]
  },
  {
   "cell_type": "markdown",
   "id": "775ebd9f",
   "metadata": {},
   "source": [
    "1-2-1 example: \n",
    "\n",
    "Необходимо разработать виртуальную модель процесса обучения. В \n",
    "программе должны быть объекты-ученики, учитель, кладезь знаний.\n",
    "Потребуется три класса – \"учитель\", \"ученик\", \"данные\". Учитель и \n",
    "ученик во многом похожи, оба – люди. Значит, их классы могут \n",
    "принадлежать одному надклассу \"человек\". Однако в контексте данной \n",
    "задачи у учителя и ученика вряд ли найдутся общие атрибуты. Определим, \n",
    "что должны уметь объекты для решения задачи \"увеличить знания\":\n",
    "• Ученик должен уметь брать информацию и превращать ее в свои \n",
    "знания.\n",
    "• Учитель должен уметь учить группу учеников.\n",
    "• Данные могут представлять собой список знаний. Элементы будут \n",
    "извлекаться по индексу.\n"
   ]
  },
  {
   "cell_type": "code",
   "execution_count": 1,
   "id": "b7c07d68",
   "metadata": {},
   "outputs": [
    {
     "name": "stdout",
     "output_type": "stream",
     "text": [
      "['inheritance']\n",
      "['inheritance', 'class']\n"
     ]
    }
   ],
   "source": [
    "class Data:\n",
    "    def __init__(self, *info):    \n",
    "        self.info = list(info)\n",
    "    def __getitem__(self, i):\n",
    "        return self.info [i]\n",
    "class Teacher:\n",
    "    def teach(self, info, *pupil):\n",
    "        for i in pupil:\n",
    "            i.take(info)\n",
    "class Pupil:\n",
    "    def __init__(self):\n",
    "        self.knowledge = []\n",
    "    def take(self, info):\n",
    "        self. knowledge.append(info)\n",
    "\n",
    "\n",
    "lesson = Data('class', 'object', 'inheritance', 'polymorphism', 'encapsulation')\n",
    "marIvanna = Teacher()\n",
    "vasy = Pupil()\n",
    "pety = Pupil()\n",
    "marIvanna.teach(lesson[2], vasy, pety)\n",
    "marIvanna.teach(lesson[0], pety)\n",
    "print(vasy.knowledge)\n",
    "print(pety.knowledge)"
   ]
  },
  {
   "cell_type": "markdown",
   "id": "438383a5",
   "metadata": {},
   "source": [
    "1.2.2 Пример\n",
    "Задача:\n",
    "Напишите программу по следующему описанию. Есть класс \"Воин\". От \n",
    "него создаются два экземпляра-юнита. Каждому устанавливается здоровье \n",
    "в 100 очков. В случайном порядке они бьют друг друга. Тот, кто бьет, \n",
    "здоровья не теряет. У того, кого бьют, оно уменьшается на 20 очков от \n",
    "одного удара. После каждого удара надо выводить сообщение, какой юнит \n",
    "атаковал, и сколько у противника осталось здоровья. Как только у кого-то \n",
    "заканчивается ресурс здоровья, программа завершается сообщением о том, \n",
    "кто одержал победу.\n"
   ]
  },
  {
   "cell_type": "code",
   "execution_count": 2,
   "id": "0b28c0fb",
   "metadata": {},
   "outputs": [
    {
     "name": "stdout",
     "output_type": "stream",
     "text": [
      "Enter 1 to attack. Enter 2 to stop program:1\n",
      "Warrior2  has attacked\n",
      "80  left\n",
      "Enter 1 to let some warrior attack:1\n",
      "Warrior1  has attacked\n",
      "80  left\n",
      "Enter 1 to let some warrior attack:1\n",
      "Warrior2  has attacked\n",
      "60  left\n",
      "Enter 1 to let some warrior attack:1\n",
      "Warrior2  has attacked\n",
      "40  left\n",
      "Enter 1 to let some warrior attack:1\n",
      "Warrior2  has attacked\n",
      "20  left\n",
      "Enter 1 to let some warrior attack:1\n",
      "Warrior2  has attacked\n",
      "0  left\n",
      "Warrior2  has won\n",
      "Enter 1 to let some warrior attack:2\n"
     ]
    }
   ],
   "source": [
    "import random\n",
    "class Warrior:\n",
    "    def __init__(self, health):\n",
    "        self.health = health\n",
    "    def hit(self, target, target1):\n",
    "        if target.health > 0:\n",
    "            target.health -= 20\n",
    "        if target1 == warrior1:\n",
    "            target1 = \"Warrior1\"\n",
    "        if target1 == warrior2:\n",
    "            target1 = \"Warrior2\"\n",
    "        print(target1, \" has attacked\")\n",
    "        print(target.health, \" left\")\n",
    "        if target.health == 0:\n",
    "            print(target1, \" has won\")\n",
    "            \n",
    "warrior1 = Warrior(100)\n",
    "warrior2 = Warrior(100)\n",
    "q = int(input(\"Enter 1 to attack. Enter 2 to stop program:\"))\n",
    "while q != 2:\n",
    "    if q == 1:\n",
    "        j = random.randint(1,3)\n",
    "        if j % 2 == 0:\n",
    "            warrior1.hit(warrior2,warrior1)\n",
    "            q = int(input(\"Enter 1 to let some warrior attack:\"))\n",
    "        else:\n",
    "            warrior2.hit(warrior1, warrior2)\n",
    "            q = int(input(\"Enter 1 to let some warrior attack:\"))\n",
    "    else:\n",
    "        print(\"Wrong input.\")\n",
    "        break"
   ]
  },
  {
   "cell_type": "markdown",
   "id": "d93889d9",
   "metadata": {},
   "source": [
    "1.2.3 Пример\n",
    "Задача:\n",
    "Создайте класс по работе с дробями. В классе должна быть \n",
    "реализована следующая функциональность:\n",
    "− сложение дробей;\n",
    "− вычитание дробей;\n",
    "− умножение дробей;\n",
    "− деление дробей."
   ]
  },
  {
   "cell_type": "code",
   "execution_count": 11,
   "id": "5b11d533",
   "metadata": {},
   "outputs": [
    {
     "name": "stdout",
     "output_type": "stream",
     "text": [
      "5/6\n",
      "1/6\n",
      "1/6\n",
      "1/6\n",
      "3/2\n",
      "1/2\n"
     ]
    }
   ],
   "source": [
    "class Rational:\n",
    "    @staticmethod\n",
    "    def gcd(a,b): #this will determine the greatest common divisor \n",
    "        while (b != 0):\n",
    "            (a,b) = (b, a%b)\n",
    "        return a\n",
    "\n",
    "    @staticmethod\n",
    "    def sgn(x): #this will determine the sign of the number \n",
    "        if x>0:\n",
    "            return 1\n",
    "        elif x<0:\n",
    "            return -1\n",
    "        else:\n",
    "            return 0\n",
    "    def __init__(self,n,d): #here we divide the numbers to their gcd because it is the same and good to use like 27/3 is same as 9/1\n",
    "        if n==0:\n",
    "            self.num=0\n",
    "            self.den=1\n",
    "        else:\n",
    "            z=self.sgn(n)*self.sgn(d)\n",
    "            n=abs(n)\n",
    "            d=abs(d)\n",
    "            k=self.gcd(n, d)\n",
    "            self.num=z*n//k\n",
    "            self.den=d//k\n",
    "    def __str__(self):  #here it will bring the sring that we can print them in console \n",
    "        if self.num==0:\n",
    "            return \"0\"\n",
    "        else:\n",
    "            return str(self.num)+\"/\"+str(self.den)\n",
    "        \n",
    "    def __add__(self,o):\n",
    "        n1=self.num\n",
    "        d1=self. den\n",
    "        if type(o)==int: #if the second number is an integer, assign them like a fraction \n",
    "            n2=0\n",
    "            d2=1\n",
    "        else:\n",
    "            n2=o.num\n",
    "            d2=o.den\n",
    "        n=n1*d2+n2*d1\n",
    "        d=d1*d2\n",
    "        return Rational(n,d)\n",
    "\n",
    "    def __radd__(self,o):\n",
    "        n1=self.num\n",
    "        d1=self.den\n",
    "        if type(o)==int:\n",
    "            n2=0\n",
    "            d2=1\n",
    "        else:\n",
    "            n2=o.num\n",
    "            d2=o.den\n",
    "        n=n1*d2+n2*d1\n",
    "        d=d1*d2\n",
    "        return Rational(n, d)\n",
    "    def __sub__(self,o):\n",
    "        n1=self.num\n",
    "        d1=self. den\n",
    "        n2=o.num\n",
    "        d2=o.den\n",
    "        n=n1*d2-n2*d1\n",
    "        d=d1*d2\n",
    "        return Rational(n, d)\n",
    "    def __mul__(self,o):\n",
    "        n1=self.num\n",
    "        d1=self.den\n",
    "        n2=o.num\n",
    "        d2=o.den\n",
    "        n=n1*n2\n",
    "        d=d1*d2\n",
    "        return Rational(n, d)\n",
    "    def __floordiv__(self,o):\n",
    "        n1=self.num\n",
    "        d1=self.den\n",
    "        n2=o.num\n",
    "        d2=o.den\n",
    "        n=n1*d2\n",
    "        d=d1*n2\n",
    "        return Rational(n, d)\n",
    "d1=Rational(1,2)\n",
    "d2=Rational(1,3)\n",
    "\n",
    "d3=d1+d2\n",
    "print(d3)\n",
    "d4=d1-d2\n",
    "print(d4)\n",
    "d5=d1*d2\n",
    "print(d5)\n",
    "d6=d1*d2\n",
    "print(d6)\n",
    "d7=d1//d2\n",
    "print(d7)\n",
    "d8=6+d1\n",
    "print(d8)"
   ]
  },
  {
   "cell_type": "markdown",
   "id": "3a4526e1",
   "metadata": {},
   "source": [
    "Задание:\n",
    "Создайте класс по работе с тригонометрическими функциями. В классе \n",
    "должны быть реализованы функции вычисления:\n",
    "− косинуса;\n",
    "− синуса;\n",
    "− тангенса;\n",
    "− арксинуса;\n",
    "− арккосинуса;\n",
    "− арктангенса;\n",
    "− перевода из градусов в радианы."
   ]
  },
  {
   "cell_type": "code",
   "execution_count": 15,
   "id": "9ad8f40e",
   "metadata": {},
   "outputs": [
    {
     "name": "stdout",
     "output_type": "stream",
     "text": [
      "sin:  1.0\n",
      "cos:  6.123233995736766e-17\n",
      "tan:  1.633123935319537e+16\n",
      "arc sin:  none\n",
      "arc cos:  none\n",
      "arc tan:  1.0038848218538872\n",
      "radians to degrees:  90.0\n"
     ]
    }
   ],
   "source": [
    "\n",
    "import math as m \n",
    "\n",
    "class trigonometry: \n",
    "    def __init__(self, num): \n",
    "        self.num = num\n",
    "    def sin(self): \n",
    "        return m.sin(self.num) \n",
    "    def cos(self): \n",
    "        return m.cos(self.num) \n",
    "    def tg(self): \n",
    "        return m.tan(self.num) \n",
    "    def arc_sin(self): \n",
    "        try:\n",
    "            return m.asin(self.num)\n",
    "        except BaseException:\n",
    "            return \"none\"\n",
    "    def arc_cos(self): \n",
    "        try:\n",
    "            return m.acos(self.num)\n",
    "        except BaseException:\n",
    "            return \"none\"\n",
    "        \n",
    "    def arc_tan(self): \n",
    "        try:\n",
    "            return m.atan(self.num)\n",
    "        except BaseException:\n",
    "            return \"none\"\n",
    "        \n",
    "    def radiantoradius(self): \n",
    "        return m.degrees(self.num) \n",
    "    \n",
    "angle = trigonometry(m.pi/2)\n",
    "print(\"sin: \", angle.sin())\n",
    "print(\"cos: \", angle.cos())\n",
    "print(\"tan: \", angle.tg())\n",
    "print(\"arc sin: \", angle.arc_sin())\n",
    "print(\"arc cos: \", angle.arc_cos())\n",
    "print(\"arc tan: \", angle.arc_tan())\n",
    "print(\"radians to degrees: \", angle.radiantoradius())\n"
   ]
  },
  {
   "cell_type": "markdown",
   "id": "4aea8db2",
   "metadata": {},
   "source": [
    "Любое представление графов, естественно, можно использовать для \n",
    "представления деревьев, потому что деревья — это особый вид графов. \n",
    "Однако, деревья играют свою большую роль в алгоритмах, и для них \n",
    "разработано много соответствующих структур и методов. Большинство \n",
    "алгоритмов на деревьях (например, поиск по деревьям) можно \n",
    "рассматривать в терминах теории графов, но специальные структуры \n",
    "данных делают их проще в реализации.\n",
    "Проще всего описать представление дерева с корнем, в котором ребра \n",
    "спускаются вниз от корня. Такие деревья часто отображают иерархическое \n",
    "ветвление данных, где корень отображает все объекты (которые, возможно, \n",
    "хранятся в листьях), а каждый внутренний узел показывает объекты, \n",
    "содержащиеся в дереве, корень которого — этот узел. Это описание можно \n",
    "использовать, представив каждое поддерево списком, содержащим все его \n",
    "поддеревья-потомки. Рассмотрим простое дерево, показанное на рисунке \n",
    "ниже.\n",
    "Мы можем представить это дерево как список списков:\n",
    "T = [[\"a\", \"b\"], [\"c\"], [\"d\", [\"e\", \"f\"]]]\n",
    "print(T[0][1])\n",
    "print(T[2][1][0])\n",
    "Каждый список в сущности является списком потомков каждого из \n",
    "внутренних узлов. Во втором примере мы обращаемся к третьему потомку \n",
    "корня, затем ко второму его потомку и в конце концов — к первому потомку \n",
    "предыдущего узла (этот путь отмечен на рисунке). В ряде случаев возможно \n",
    "заранее определить максимальное число потомков каждого узла. (Например, \n",
    "каждый узел бинарного дерева может иметь до двух потомков). Поэтому \n",
    "можно использовать другие представления, скажем, объекты с отдельным \n",
    "атрибутом для каждого из потомков как в листинге ниже.\n"
   ]
  },
  {
   "cell_type": "markdown",
   "id": "0fb1c0bd",
   "metadata": {},
   "source": [
    "1.2.1 Пример\n",
    "Задача:\n",
    "Определите класс бинарного дерева и задайте его объекты с отдельным \n",
    "атрибутом для каждого из потомков"
   ]
  },
  {
   "cell_type": "code",
   "execution_count": 16,
   "id": "217a7869",
   "metadata": {},
   "outputs": [
    {
     "data": {
      "text/plain": [
       "'c'"
      ]
     },
     "execution_count": 16,
     "metadata": {},
     "output_type": "execute_result"
    }
   ],
   "source": [
    "class Tree:\n",
    "    def __init__(self, left, right):\n",
    "        self.left = left\n",
    "        self.right = right\n",
    "t = Tree(Tree(\"a\", \"b\"), Tree(\"c\", \"d\"))\n",
    "t.right.left"
   ]
  },
  {
   "cell_type": "markdown",
   "id": "3bde2f34",
   "metadata": {},
   "source": [
    "1.2.2 ПРИМЕР\n",
    "\n",
    "Для обозначения отсутствующих потомков можно использовать None (в случае если у узла только один потомок). Само собой, можно комбинировать разные методы (например, использовать списки или множества потомков для каждого узла). Распространенный способ реализации деревьев, особенно на языках, не имеющих встроенной поддержки списков, это так называемое представление «первый потомок, следующий брат». В нем каждый узел имеет два «указателя» или атрибута, указывающих на другие узлы, как в бинарном дереве. Однако, первый из этих атрибутов ссылается на первого потомка узла, а второй — на его следующего брата (т.е. узел, имеющий того же родителя, но находящийся правее, — прим. перев). Иными словами, каждый узел дерева имеет указатель на связанный список его потомков, а каждый из этих потомков ссылается на свой собственный аналогичный список. Таким образом, небольшая модификация бинарного дерева даст нам многопутевое дерево, показанное в листинге ниже."
   ]
  },
  {
   "cell_type": "code",
   "execution_count": 1,
   "id": "df6d4ac2",
   "metadata": {},
   "outputs": [
    {
     "data": {
      "text/plain": [
       "'c'"
      ]
     },
     "execution_count": 1,
     "metadata": {},
     "output_type": "execute_result"
    }
   ],
   "source": [
    "class Tree:\n",
    "    def __init__(self, kids, next=None):\n",
    "        self.kids = self.val = kids\n",
    "        self.next = next\n",
    "\n",
    "t = Tree(Tree(\"a\", Tree(\"b\", Tree(\"c\", Tree(\"d\")))))\n",
    "t.kids.next.next.val"
   ]
  },
  {
   "cell_type": "markdown",
   "id": "aacc7474",
   "metadata": {},
   "source": [
    "#! Задание\n",
    "Представьте дерево показанное на рисунке с использованием списка из \n",
    "списков. Выведите на печать корень дерева, а также его левое и правое \n",
    "поддеревья."
   ]
  },
  {
   "cell_type": "code",
   "execution_count": 2,
   "id": "919ef82c",
   "metadata": {},
   "outputs": [
    {
     "name": "stdout",
     "output_type": "stream",
     "text": [
      "a\n",
      "['b', [['d'], ['e']]]\n",
      "['с', ['f']]\n"
     ]
    }
   ],
   "source": [
    "T = ['a',\n",
    "    [['b',\n",
    "    [['d'],['e']]],\n",
    "    ['с',['f']]]]\n",
    "\n",
    "print (T[0])    #root\n",
    "print (T[1][0]) #left root \n",
    "print (T[1][1]) #right root \n"
   ]
  },
  {
   "cell_type": "markdown",
   "id": "295c2cf3",
   "metadata": {},
   "source": [
    "Дан класс, описывающий бинарное дерево.\n",
    "class Tree:\n",
    " def __init__(self, data):\n",
    " self.left = None\n",
    " self.right = None\n",
    " self.data = data\n",
    " def PrintTree(self):\n",
    " print(self.data)\n",
    "Реализуйте в классе функцию для вставки нового элемента в дерево по \n",
    "следующим правилам:\n",
    "• Левое поддерево узла содержит только узлы со значениями меньше, \n",
    "чем значение в узле.\n",
    "• Правое поддерево узла содержит только узлы со значениями меньше, \n",
    "чем значение в узле.\n",
    "• Каждое из левого и правого поддеревьев также должно быть \n",
    "бинарным деревом поиска.\n",
    "• Не должно быть повторяющихся узлов.\n",
    "Метод вставки сравнивает значение узла с родительским узлом и решает \n",
    "куда доваить элемент (в левое или правое поддерево). Перепишите, метод \n",
    "PrintTree для печати полной версии дерева.\n"
   ]
  },
  {
   "cell_type": "code",
   "execution_count": 3,
   "id": "094fb645",
   "metadata": {},
   "outputs": [
    {
     "name": "stdout",
     "output_type": "stream",
     "text": [
      "-2\n",
      "0\n",
      "3\n",
      "7\n",
      "10\n",
      "12\n",
      "34\n"
     ]
    }
   ],
   "source": [
    "\n",
    "class Tree:\n",
    "    def __init__(self, data):#here it gives the left and right the none val and the data from user to data \n",
    "        self.left = None\n",
    "        self.right = None\n",
    "        self.data = data\n",
    "    \n",
    "    def insert(self, value):\n",
    "        if value == self.data:\n",
    "            return  # no duplicate nodes allowed\n",
    "        elif value < self.data: #val < data goes to left side and val > data goes to right side \n",
    "            if self.left is None:\n",
    "                self.left = Tree(value)\n",
    "            else:\n",
    "                self.left.insert(value)\n",
    "        else:\n",
    "            if self.right is None:\n",
    "                self.right = Tree(value)\n",
    "            else:\n",
    "                self.right.insert(value)\n",
    "    \n",
    "    def PrintTree(self): #here it  first prints recursively the first one and then the second one \n",
    "        if self.left:\n",
    "            self.left.PrintTree()\n",
    "        print(self.data)\n",
    "        if self.right:\n",
    "            self.right.PrintTree()\n",
    "root = Tree (7)\n",
    "root.insert(10)\n",
    "root.insert(12)\n",
    "root.insert(0)\n",
    "root.insert(3)\n",
    "root.insert(34)\n",
    "root.insert(-2)\n",
    "root.PrintTree()"
   ]
  },
  {
   "cell_type": "markdown",
   "id": "20d4fc3c",
   "metadata": {},
   "source": [
    "1.3. Теоретический материал – Деревья решений\n",
    "Дерево решений – это один из наиболее часто и широко используемых \n",
    "алгоритмов контролируемого машинного обучения, который может \n",
    "выполнять как регрессионные, так и классификационные задачи.\n",
    "Использование деревьев решений для прогнозного анализа имеет ряд \n",
    "преимуществ:\n",
    "1. Деревья решений могут быть использованы для \n",
    "прогнозирования как непрерывных, так и дискретных значений, т. е. они \n",
    "хорошо работают как для задач регрессии, так и для задач классификации.\n",
    "2. Они требуют относительно меньших усилий для обучения \n",
    "алгоритма.\n",
    "3. Они могут быть использованы для классификации нелинейно \n",
    "разделимых данных.\n",
    "4. Они очень быстры и эффективны по сравнению с KNN и \n",
    "другими алгоритмами классификации.\n",
    "Решим модельные примеры классификации и регрессии, разобранные \n",
    "в предыдущих раочих тетрадях, но с использованием деревьев принятия \n",
    "решений."
   ]
  },
  {
   "cell_type": "markdown",
   "id": "93fa2704",
   "metadata": {},
   "source": [
    "1.3.1 Пример\n",
    "Задача:\n",
    "Построим дерево решений для задачи классификации, для этого, построим \n",
    "границу решения для каждого класса. В качестве данных будем \n",
    "использовать уже знакомый нам и встроенный в библиотеку sklearn набор \n",
    "данных ирисов Фишера. Импортируем библиотеки, набор данных и \n",
    "посмотрим его характеристики.\n"
   ]
  },
  {
   "cell_type": "code",
   "execution_count": 5,
   "id": "773e2a64",
   "metadata": {},
   "outputs": [
    {
     "data": {
      "text/html": [
       "<div>\n",
       "<style scoped>\n",
       "    .dataframe tbody tr th:only-of-type {\n",
       "        vertical-align: middle;\n",
       "    }\n",
       "\n",
       "    .dataframe tbody tr th {\n",
       "        vertical-align: top;\n",
       "    }\n",
       "\n",
       "    .dataframe thead th {\n",
       "        text-align: right;\n",
       "    }\n",
       "</style>\n",
       "<table border=\"1\" class=\"dataframe\">\n",
       "  <thead>\n",
       "    <tr style=\"text-align: right;\">\n",
       "      <th></th>\n",
       "      <th>sepal_length</th>\n",
       "      <th>sepal_width</th>\n",
       "      <th>petal_length</th>\n",
       "      <th>petal_width</th>\n",
       "      <th>species</th>\n",
       "    </tr>\n",
       "  </thead>\n",
       "  <tbody>\n",
       "    <tr>\n",
       "      <th>0</th>\n",
       "      <td>5.1</td>\n",
       "      <td>3.5</td>\n",
       "      <td>1.4</td>\n",
       "      <td>0.2</td>\n",
       "      <td>setosa</td>\n",
       "    </tr>\n",
       "    <tr>\n",
       "      <th>1</th>\n",
       "      <td>4.9</td>\n",
       "      <td>3.0</td>\n",
       "      <td>1.4</td>\n",
       "      <td>0.2</td>\n",
       "      <td>setosa</td>\n",
       "    </tr>\n",
       "    <tr>\n",
       "      <th>2</th>\n",
       "      <td>4.7</td>\n",
       "      <td>3.2</td>\n",
       "      <td>1.3</td>\n",
       "      <td>0.2</td>\n",
       "      <td>setosa</td>\n",
       "    </tr>\n",
       "    <tr>\n",
       "      <th>3</th>\n",
       "      <td>4.6</td>\n",
       "      <td>3.1</td>\n",
       "      <td>1.5</td>\n",
       "      <td>0.2</td>\n",
       "      <td>setosa</td>\n",
       "    </tr>\n",
       "    <tr>\n",
       "      <th>4</th>\n",
       "      <td>5.0</td>\n",
       "      <td>3.6</td>\n",
       "      <td>1.4</td>\n",
       "      <td>0.2</td>\n",
       "      <td>setosa</td>\n",
       "    </tr>\n",
       "  </tbody>\n",
       "</table>\n",
       "</div>"
      ],
      "text/plain": [
       "   sepal_length  sepal_width  petal_length  petal_width species\n",
       "0           5.1          3.5           1.4          0.2  setosa\n",
       "1           4.9          3.0           1.4          0.2  setosa\n",
       "2           4.7          3.2           1.3          0.2  setosa\n",
       "3           4.6          3.1           1.5          0.2  setosa\n",
       "4           5.0          3.6           1.4          0.2  setosa"
      ]
     },
     "execution_count": 5,
     "metadata": {},
     "output_type": "execute_result"
    }
   ],
   "source": [
    "import pandas as pd\n",
    "import numpy as np\n",
    "import seaborn as sns\n",
    "import matplotlib.pyplot as plt\n",
    "\n",
    "dataset = sns.load_dataset('iris')\n",
    "dataset\n",
    "dataset.shape\n",
    "dataset.head()"
   ]
  },
  {
   "cell_type": "markdown",
   "id": "8ef566bf",
   "metadata": {},
   "source": [
    "Далее, разделим наши данные на атрибуты и метки, а затем выделим в \n",
    "общей совокупности полученных данных обучающие и тестовые наборы. \n",
    "Таким образом, мы можем обучить наш алгоритм на одном наборе данных, \n",
    "а затем протестировать его на совершенно на другом наборе, который \n",
    "алгоритм еще не видел. Это дает вам более точное представление о том, \n",
    "как на самом деле будет работать ваш обученный алгоритм\n",
    "\n",
    "После того, как данные были разделены на обучающие и тестовые наборы, \n",
    "последний шаг состоит в том, чтобы обучить алгоритм дерева решений на \n",
    "этих данных и сделать прогнозы. Scikit-Learn содержит библиотеку tree , \n",
    "которая содержит встроенные классы/методы для различных алгоритмов \n",
    "дерева решений. Поскольку мы собираемся выполнить здесь задачу \n",
    "классификации, мы будем использовать класс DecisionTreeClassifier для \n",
    "этого примера. Метод fit этого класса вызывается для обучения алгоритма \n",
    "на обучающих данных, которые передаются в качестве параметра методу \n",
    "fit . Выполним следующий сценарий для обучения алгоритма"
   ]
  },
  {
   "cell_type": "code",
   "execution_count": 8,
   "id": "d9bba36c",
   "metadata": {},
   "outputs": [
    {
     "data": {
      "text/plain": [
       "[Text(0.4, 0.9285714285714286, 'X[3] <= 0.8\\ngini = 0.667\\nsamples = 120\\nvalue = [40, 40, 40]'),\n",
       " Text(0.3, 0.7857142857142857, 'gini = 0.0\\nsamples = 40\\nvalue = [40, 0, 0]'),\n",
       " Text(0.5, 0.7857142857142857, 'X[2] <= 4.85\\ngini = 0.5\\nsamples = 80\\nvalue = [0, 40, 40]'),\n",
       " Text(0.2, 0.6428571428571429, 'X[3] <= 1.6\\ngini = 0.095\\nsamples = 40\\nvalue = [0, 38, 2]'),\n",
       " Text(0.1, 0.5, 'gini = 0.0\\nsamples = 37\\nvalue = [0, 37, 0]'),\n",
       " Text(0.3, 0.5, 'X[1] <= 3.0\\ngini = 0.444\\nsamples = 3\\nvalue = [0, 1, 2]'),\n",
       " Text(0.2, 0.35714285714285715, 'gini = 0.0\\nsamples = 2\\nvalue = [0, 0, 2]'),\n",
       " Text(0.4, 0.35714285714285715, 'gini = 0.0\\nsamples = 1\\nvalue = [0, 1, 0]'),\n",
       " Text(0.8, 0.6428571428571429, 'X[3] <= 1.7\\ngini = 0.095\\nsamples = 40\\nvalue = [0, 2, 38]'),\n",
       " Text(0.7, 0.5, 'X[2] <= 4.95\\ngini = 0.444\\nsamples = 6\\nvalue = [0, 2, 4]'),\n",
       " Text(0.6, 0.35714285714285715, 'gini = 0.0\\nsamples = 1\\nvalue = [0, 1, 0]'),\n",
       " Text(0.8, 0.35714285714285715, 'X[0] <= 6.05\\ngini = 0.32\\nsamples = 5\\nvalue = [0, 1, 4]'),\n",
       " Text(0.7, 0.21428571428571427, 'X[3] <= 1.55\\ngini = 0.5\\nsamples = 2\\nvalue = [0, 1, 1]'),\n",
       " Text(0.6, 0.07142857142857142, 'gini = 0.0\\nsamples = 1\\nvalue = [0, 0, 1]'),\n",
       " Text(0.8, 0.07142857142857142, 'gini = 0.0\\nsamples = 1\\nvalue = [0, 1, 0]'),\n",
       " Text(0.9, 0.21428571428571427, 'gini = 0.0\\nsamples = 3\\nvalue = [0, 0, 3]'),\n",
       " Text(0.9, 0.5, 'gini = 0.0\\nsamples = 34\\nvalue = [0, 0, 34]')]"
      ]
     },
     "execution_count": 8,
     "metadata": {},
     "output_type": "execute_result"
    },
    {
     "data": {
      "image/png": "[encoded data removed]",
      "text/plain": [
       "<Figure size 432x288 with 1 Axes>"
      ]
     },
     "metadata": {
      "needs_background": "light"
     },
     "output_type": "display_data"
    }
   ],
   "source": [
    "from sklearn.model_selection import train_test_split\n",
    "\n",
    "X_train, X_test, y_train, y_test = train_test_split(\n",
    "    dataset.iloc[:, :-1],\n",
    "    dataset.iloc[:, -1],\n",
    "    test_size = 0.20\n",
    ")\n",
    "\n",
    "# This code is splitting a dataset into two parts: a smaller one to test the model, \n",
    "# and a larger one to train the model. \n",
    "# The test data is used to see how well the model performs on new data it hasn't seen before.\n",
    "X_train.shape, X_test.shape,y_train.shape, y_test.shape\n",
    "X_train.head()\n",
    "y_train. head()\n",
    "\n",
    "\n",
    "# The decision tree algorithm makes binary splits on the features of the data to create branches. \n",
    "# It chooses the feature and value that best separates the data into two groups, \n",
    "# such that the resulting groups are as pure as possible. The algorithm calculates a \n",
    "# metric called impurity for each possible split and chooses the split with the lowest \n",
    "# impurity. It creates two branches for each split and repeats the process recursively \n",
    "# until some stopping criterion is met. \n",
    "# The goal is to separate the data into groups with similar class labels.\n",
    "# Алгоритм дерева решений делает двоичные разбиения на признаках данных, чтобы создавать ветви. \n",
    "# Он выбирает признак и значение, которые лучше всего разделяют данные на две группы таким образом, \n",
    "# чтобы полученные группы были как можно более чистыми. Алгоритм рассчитывает метрику, называемую \n",
    "# неопределенностью, для каждого возможного разбиения и выбирает разбиение с наименьшей \n",
    "# неопределенностью. Он создает две ветви для каждого разбиения и повторяет процесс рекурсивно, \n",
    "# пока не будет достигнут некий критерий остановки. Цель состоит в том, чтобы разделить данные на \n",
    "# группы с похожими метками классов.\n",
    "\n",
    "\n",
    "\n",
    "\n",
    "# In the context of decision trees and machine learning, \n",
    "# Gini refers to the Gini impurity, which is a measure of the \n",
    "# probability of misclassifying a randomly chosen element in a dataset. \n",
    "# A Gini score of 0 means that all elements in the dataset belong to the same \n",
    "# class, while a score of 1 means that the dataset is equally split across all classes. \n",
    "# Decision trees use the Gini impurity to determine the best split for the data in order \n",
    "# to create the most pure branches.\n",
    "\n",
    "\n",
    "#doing the classification\n",
    "from sklearn.tree import DecisionTreeClassifier\n",
    "classifier = DecisionTreeClassifier()\n",
    "classifier.fit(X_train, y_train)\n",
    "#drawing of the decision tree \n",
    "from sklearn import tree\n",
    "tree.plot_tree(classifier)\n"
   ]
  },
  {
   "cell_type": "markdown",
   "id": "ccc43a4c",
   "metadata": {},
   "source": [
    "Теперь, когда наш классификатор обучен, давайте сделаем прогнозы по \n",
    "тестовым данным. Для составления прогнозов используется метод predict \n",
    "класса Decision Tree Classifier. Взгляните на следующий код для \n",
    "использования"
   ]
  },
  {
   "cell_type": "code",
   "execution_count": 11,
   "id": "017d241e",
   "metadata": {},
   "outputs": [
    {
     "data": {
      "text/plain": [
       "array(['setosa', 'versicolor', 'virginica', 'setosa', 'versicolor',\n",
       "       'virginica', 'setosa', 'versicolor', 'setosa', 'virginica',\n",
       "       'virginica', 'virginica', 'virginica', 'virginica', 'versicolor',\n",
       "       'setosa', 'setosa', 'virginica', 'setosa', 'setosa', 'versicolor',\n",
       "       'versicolor', 'versicolor', 'virginica', 'setosa', 'virginica',\n",
       "       'setosa', 'virginica', 'versicolor', 'versicolor'], dtype=object)"
      ]
     },
     "execution_count": 11,
     "metadata": {},
     "output_type": "execute_result"
    }
   ],
   "source": [
    "y_pred = classifier.predict(X_test)\n",
    "y_pred\n",
    "\n",
    "# Here, we are using the trained decision tree classifier to predict the class \n",
    "# abels of the test data. \n",
    "# The predicted class labels are stored in the variable y_pred.\n",
    "\n",
    "# We can then use y_pred to evaluate how well the decision tree classifier \n",
    "# performs on the test data by comparing the predicted class labels with the \n",
    "# true class labels (y_test)"
   ]
  },
  {
   "cell_type": "markdown",
   "id": "e895d237",
   "metadata": {},
   "source": [
    "На данный момент мы обучили наш алгоритм и сделали некоторые \n",
    "прогнозы. Теперь посмотрим, насколько точен наш алгоритм. Для задач \n",
    "классификации обычно используются такие метрики, как матрица \n",
    "путаницы, точность. Библиотека Scikit-Learn metrics содержит методы \n",
    "classification_report и confusion_matrix, которые могут быть использованы \n",
    "для расчета этих метрик"
   ]
  },
  {
   "cell_type": "code",
   "execution_count": 15,
   "id": "66b613da",
   "metadata": {},
   "outputs": [
    {
     "name": "stdout",
     "output_type": "stream",
     "text": [
      "Here in this matrix, the diagonal is the result of the correct predicts and the off-diagonal are the incorrect ones\n",
      "\n",
      "[[10  0  0]\n",
      " [ 0  9  1]\n",
      " [ 0  0 10]]\n",
      "\n",
      "Here in this report, \n",
      "Precision: This measures the proportion of true positive predictions out of all positive predictions. In other words, it tells us how often the classifier is correct when it predicts the positive class.\n",
      "\n",
      "Recall: This measures the proportion of true positive predictions out of all actual positive samples. In other words, it tells us how well the classifier can find all positive samples.\n",
      "\n",
      "F1-score: This is the harmonic mean of precision and recall. It provides a single score that balances precision and recall.\n",
      "\n",
      "Support: This is the number of samples in each class.\n",
      "\n",
      "              precision    recall  f1-score   support\n",
      "\n",
      "      setosa       1.00      1.00      1.00        10\n",
      "  versicolor       1.00      0.90      0.95        10\n",
      "   virginica       0.91      1.00      0.95        10\n",
      "\n",
      "    accuracy                           0.97        30\n",
      "   macro avg       0.97      0.97      0.97        30\n",
      "weighted avg       0.97      0.97      0.97        30\n",
      "\n"
     ]
    }
   ],
   "source": [
    "from sklearn.metrics import classification_report, confusion_matrix\n",
    "print (\"Here in this matrix, the diagonal is the result of the correct predicts and the off-diagonal are the incorrect ones\\n\")\n",
    "print(confusion_matrix(y_test, y_pred))\n",
    "print (\"\"\"\\nHere in this report, \\nPrecision: This measures the proportion of true positive predictions out of all positive predictions. In other words, it tells us how often the classifier is correct when it predicts the positive class.\n",
    "\\nRecall: This measures the proportion of true positive predictions out of all actual positive samples. In other words, it tells us how well the classifier can find all positive samples.\n",
    "\\nF1-score: This is the harmonic mean of precision and recall. It provides a single score that balances precision and recall.\n",
    "\\nSupport: This is the number of samples in each class.\\n\"\"\")\n",
    "print(classification_report(y_test, y_pred))"
   ]
  },
  {
   "cell_type": "markdown",
   "id": "c33be486",
   "metadata": {},
   "source": [
    "Задача:\n",
    "Постройте классификатор на основе дерева принятия решений \n",
    "следующего датасета"
   ]
  },
  {
   "cell_type": "code",
   "execution_count": 18,
   "id": "461a8249",
   "metadata": {},
   "outputs": [
    {
     "name": "stdout",
     "output_type": "stream",
     "text": [
      "[[3 0]\n",
      " [0 3]]\n",
      "              precision    recall  f1-score   support\n",
      "\n",
      "           0       1.00      1.00      1.00         3\n",
      "           1       1.00      1.00      1.00         3\n",
      "\n",
      "    accuracy                           1.00         6\n",
      "   macro avg       1.00      1.00      1.00         6\n",
      "weighted avg       1.00      1.00      1.00         6\n",
      "\n"
     ]
    },
    {
     "data": {
      "image/png": "[encoded data removed]",
      "text/plain": [
       "<Figure size 432x288 with 1 Axes>"
      ]
     },
     "metadata": {
      "needs_background": "light"
     },
     "output_type": "display_data"
    }
   ],
   "source": [
    "import pandas as pd\n",
    "import numpy as np \n",
    "import seaborn as sns\n",
    "import matplotlib.pyplot as plt\n",
    "from sklearn.model_selection import train_test_split\n",
    "\n",
    "#array \n",
    "dataset = np.array([[-1, -1], [-2, -1], [-3, -2], [1, 1], [2, 1], [3, 2]])\n",
    "target = [0, 0, 0, 1, 1, 1]\n",
    "\n",
    "dataset.shape\n",
    "\n",
    "#making classification and fit it into the dataset\n",
    "classifier = DecisionTreeClassifier()\n",
    "classifier.fit(dataset,target)\n",
    "\n",
    "#ploting the tree\n",
    "tree.plot_tree(classifier)\n",
    "\n",
    "#our predicts  \n",
    "y_pred = classifier.predict(dataset)\n",
    "\n",
    "\n",
    "#gini of 0.5 means the data is divided into two parts \n",
    "#gini of 0 means the data is the same in class \n",
    "#gini of 1 means the data is distributed all over \n",
    "\n",
    "\n",
    "print(confusion_matrix(y_pred,target)) #output of the matrix, if non diagonal is a number means there is a mistake in our code \n",
    "print(classification_report(y_pred,target)) # report about the classification "
   ]
  },
  {
   "cell_type": "markdown",
   "id": "2f1e0dc7",
   "metadata": {},
   "source": [
    "1.4. Теоретический материал – Дерево решений для регрессии\n",
    "Дерево решений для регрессии\n",
    "Процесс решения регрессионной задачи с деревом решений с \n",
    "помощью Scikit Learn очень похож на процесс классификации. Однако для \n",
    "регрессии мы используем класс DecisionTreeRegressor древовидной \n",
    "библиотеки. Кроме того, оценочные показатели регрессии отличаются от \n",
    "показателей классификации. В остальном процесс почти такой же.\n",
    "Построим регрессию с использованием дерева решений в Python и \n",
    "библиотеки scikit-learn. В качестве исходного набора данных будем \n",
    "использовать зависимость заработной платы от опыта работы из\n",
    "предыдущей тетради:\n",
    "https://raw.githubusercontent.com/AnnaShestova/salary-years-simple\u0002linear-regression/master/Salary_Data.csv"
   ]
  },
  {
   "cell_type": "markdown",
   "id": "cb51229c",
   "metadata": {},
   "source": [
    "Постойте регрессию с использованием дерева решений, реализованного в \n",
    "Python."
   ]
  },
  {
   "cell_type": "code",
   "execution_count": 29,
   "id": "8aa979f0",
   "metadata": {},
   "outputs": [
    {
     "name": "stdout",
     "output_type": "stream",
     "text": [
      "there shape of dataset:  (30, 2)  in rows and columns\n"
     ]
    },
    {
     "data": {
      "image/png": "[encoded data removed]",
      "text/plain": [
       "<Figure size 432x288 with 1 Axes>"
      ]
     },
     "metadata": {
      "needs_background": "light"
     },
     "output_type": "display_data"
    },
    {
     "name": "stdout",
     "output_type": "stream",
     "text": [
      "this is the array of the year experience\n",
      " [[ 1.1]\n",
      " [ 1.3]\n",
      " [ 1.5]\n",
      " [ 2. ]\n",
      " [ 2.2]\n",
      " [ 2.9]\n",
      " [ 3. ]\n",
      " [ 3.2]\n",
      " [ 3.2]\n",
      " [ 3.7]\n",
      " [ 3.9]\n",
      " [ 4. ]\n",
      " [ 4. ]\n",
      " [ 4.1]\n",
      " [ 4.5]\n",
      " [ 4.9]\n",
      " [ 5.1]\n",
      " [ 5.3]\n",
      " [ 5.9]\n",
      " [ 6. ]\n",
      " [ 6.8]\n",
      " [ 7.1]\n",
      " [ 7.9]\n",
      " [ 8.2]\n",
      " [ 8.7]\n",
      " [ 9. ]\n",
      " [ 9.5]\n",
      " [ 9.6]\n",
      " [10.3]\n",
      " [10.5]]\n",
      "this is the array of the salary\n",
      " [ 39343.  46205.  37731.  43525.  39891.  56642.  60150.  54445.  64445.\n",
      "  57189.  63218.  55794.  56957.  57081.  61111.  67938.  66029.  83088.\n",
      "  81363.  93940.  91738.  98273. 101302. 113812. 109431. 105582. 116969.\n",
      " 112635. 122391. 121872.]\n"
     ]
    },
    {
     "data": {
      "image/png": "[encoded data removed]",
      "text/plain": [
       "<Figure size 432x288 with 1 Axes>"
      ]
     },
     "metadata": {
      "needs_background": "light"
     },
     "output_type": "display_data"
    },
    {
     "name": "stdout",
     "output_type": "stream",
     "text": [
      "predictions: \n",
      "\n",
      "Mean Squared Error: 25498988.416666668\n",
      "Mean Absolute Error: 4120.666666666667\n",
      "the percentage of error: \n",
      "5.421715809463662\n",
      "Средняя абсолютная ошибка для нашего алгоритма составляет 4120.66, \n",
      "что составляет менее 6 процентов от среднего значения всех значений в \n",
      "столбце.\n"
     ]
    }
   ],
   "source": [
    "import pandas as pd\n",
    "import numpy as np\n",
    "import matplotlib.pyplot as plt\n",
    "\n",
    "url = r'https://raw.githubusercontent.com/AnnaShestova/salary-years-simple-linear-regression/master/Salary_Data.csv'\n",
    "dataset = pd.read_csv(url)\n",
    "dataset. head()\n",
    "\n",
    "#the information about dataset\n",
    "print(\"there shape of dataset: \", dataset.shape, \" in rows and columns\") \n",
    "dataset.describe()\n",
    "\n",
    "# ploting the graph \n",
    "plt.scatter (dataset['YearsExperience'], dataset['Salary'], color = 'b', label = \"Заработная плата\")\n",
    "plt.xlabel(\"Опыт(лет)\")\n",
    "plt.ylabel(\"Заработная плата\")\n",
    "plt.show()\n",
    "\n",
    "from sklearn.tree import DecisionTreeRegressor\n",
    "X = dataset.iloc[:, :-1].values\n",
    "y = dataset.iloc[:, 1].values\n",
    "print('this is the array of the year experience\\n', X)\n",
    "print('this is the array of the salary\\n',y)\n",
    "\n",
    "# Now that we have attributes and labels, we need to divide them into a training and test sets.\n",
    "# The above fragment divides 80% of the data into a training set, and 20% of the data into a test set\n",
    "X_train, X_test, y_train, y_test = train_test_split(X, y, test_size = 0.2, random_state = 0)\n",
    "\n",
    "# next, you can train a linear regression algorithm\n",
    "# you need to import the LinearRegression class, create an instance of it, and call the fit() method\n",
    "regressor = DecisionTreeRegressor()\n",
    "regressor.fit(X_train, y_train)\n",
    "\n",
    "\n",
    "from sklearn import tree\n",
    "tree.plot_tree(regressor)\n",
    "plt.show()\n",
    "#making some predictions :\n",
    "y_pred = regressor.predict(X_test)\n",
    "print (\"predictions: \\n\")\n",
    "y_pred\n",
    "# The y_pred variable contains the predicted values of the target variable (Salary) based on the input values of the test set (X_test) using the trained decision tree regression model.\n",
    "# The code is making some predictions using the trained model on the test data to evaluate the performance of the model. The predicted values are then compared to the actual values of the test \n",
    "# set to evaluate the accuracy of the model.\n",
    "\n",
    "#Теперь сравним некоторые из наших прогнозируемых значений с фактическими значениями:\n",
    "\n",
    "\n",
    "df=pd.DataFrame({'Actual':y_test, 'Predicted':y_pred})\n",
    "df.head()\n",
    "\n",
    "#Расчитаем среднюю абсолютную и среднеквадратичную ошибку регрессии:\n",
    "from sklearn import metrics\n",
    "\n",
    "print('Mean Squared Error:', metrics.mean_squared_error(y_test, y_pred))\n",
    "print('Mean Absolute Error:', metrics.mean_absolute_error(y_test, y_pred))\n",
    "print (\"the percentage of error: \")\n",
    "print (metrics.mean_absolute_error(y_test, y_pred) / np.average(y) * 100)\n",
    "print (\"\"\"Средняя абсолютная ошибка для нашего алгоритма составляет 4120.66, \n",
    "что составляет менее 6 процентов от среднего значения всех значений в \n",
    "столбце.\"\"\")"
   ]
  },
  {
   "cell_type": "markdown",
   "id": "7beaf873",
   "metadata": {},
   "source": [
    "Задание. Постройте модель регрессии для данных из предыдущей рабочей \n",
    "тетради.Для примера можно взять потребления газа (в миллионах \n",
    "галлонов) в 48 штатах США или набор данных о качестве красного вина:\n",
    "https://raw.githubusercontent.com/likarajo/petrol_consumption/master/data/pet\n",
    "rol_consumption.csv\n",
    "https://raw.githubusercontent.com/aniruddhachoudhury/Red-Wine\u0002Quality/master/winequality-red.csv\n",
    "Постройте прогноз. Оцените точность модели"
   ]
  },
  {
   "cell_type": "code",
   "execution_count": 30,
   "id": "ae355a67",
   "metadata": {},
   "outputs": [
    {
     "data": {
      "text/html": [
       "<div>\n",
       "<style scoped>\n",
       "    .dataframe tbody tr th:only-of-type {\n",
       "        vertical-align: middle;\n",
       "    }\n",
       "\n",
       "    .dataframe tbody tr th {\n",
       "        vertical-align: top;\n",
       "    }\n",
       "\n",
       "    .dataframe thead th {\n",
       "        text-align: right;\n",
       "    }\n",
       "</style>\n",
       "<table border=\"1\" class=\"dataframe\">\n",
       "  <thead>\n",
       "    <tr style=\"text-align: right;\">\n",
       "      <th></th>\n",
       "      <th>fixed acidity</th>\n",
       "      <th>volatile acidity</th>\n",
       "      <th>citric acid</th>\n",
       "      <th>residual sugar</th>\n",
       "      <th>chlorides</th>\n",
       "      <th>free sulfur dioxide</th>\n",
       "      <th>total sulfur dioxide</th>\n",
       "      <th>density</th>\n",
       "      <th>pH</th>\n",
       "      <th>sulphates</th>\n",
       "      <th>alcohol</th>\n",
       "      <th>quality</th>\n",
       "    </tr>\n",
       "  </thead>\n",
       "  <tbody>\n",
       "    <tr>\n",
       "      <th>0</th>\n",
       "      <td>7.4</td>\n",
       "      <td>0.70</td>\n",
       "      <td>0.00</td>\n",
       "      <td>1.9</td>\n",
       "      <td>0.076</td>\n",
       "      <td>11.0</td>\n",
       "      <td>34.0</td>\n",
       "      <td>0.9978</td>\n",
       "      <td>3.51</td>\n",
       "      <td>0.56</td>\n",
       "      <td>9.4</td>\n",
       "      <td>5</td>\n",
       "    </tr>\n",
       "    <tr>\n",
       "      <th>1</th>\n",
       "      <td>7.8</td>\n",
       "      <td>0.88</td>\n",
       "      <td>0.00</td>\n",
       "      <td>2.6</td>\n",
       "      <td>0.098</td>\n",
       "      <td>25.0</td>\n",
       "      <td>67.0</td>\n",
       "      <td>0.9968</td>\n",
       "      <td>3.20</td>\n",
       "      <td>0.68</td>\n",
       "      <td>9.8</td>\n",
       "      <td>5</td>\n",
       "    </tr>\n",
       "    <tr>\n",
       "      <th>2</th>\n",
       "      <td>7.8</td>\n",
       "      <td>0.76</td>\n",
       "      <td>0.04</td>\n",
       "      <td>2.3</td>\n",
       "      <td>0.092</td>\n",
       "      <td>15.0</td>\n",
       "      <td>54.0</td>\n",
       "      <td>0.9970</td>\n",
       "      <td>3.26</td>\n",
       "      <td>0.65</td>\n",
       "      <td>9.8</td>\n",
       "      <td>5</td>\n",
       "    </tr>\n",
       "    <tr>\n",
       "      <th>3</th>\n",
       "      <td>11.2</td>\n",
       "      <td>0.28</td>\n",
       "      <td>0.56</td>\n",
       "      <td>1.9</td>\n",
       "      <td>0.075</td>\n",
       "      <td>17.0</td>\n",
       "      <td>60.0</td>\n",
       "      <td>0.9980</td>\n",
       "      <td>3.16</td>\n",
       "      <td>0.58</td>\n",
       "      <td>9.8</td>\n",
       "      <td>6</td>\n",
       "    </tr>\n",
       "    <tr>\n",
       "      <th>4</th>\n",
       "      <td>7.4</td>\n",
       "      <td>0.70</td>\n",
       "      <td>0.00</td>\n",
       "      <td>1.9</td>\n",
       "      <td>0.076</td>\n",
       "      <td>11.0</td>\n",
       "      <td>34.0</td>\n",
       "      <td>0.9978</td>\n",
       "      <td>3.51</td>\n",
       "      <td>0.56</td>\n",
       "      <td>9.4</td>\n",
       "      <td>5</td>\n",
       "    </tr>\n",
       "  </tbody>\n",
       "</table>\n",
       "</div>"
      ],
      "text/plain": [
       "   fixed acidity  volatile acidity  citric acid  residual sugar  chlorides  \\\n",
       "0            7.4              0.70         0.00             1.9      0.076   \n",
       "1            7.8              0.88         0.00             2.6      0.098   \n",
       "2            7.8              0.76         0.04             2.3      0.092   \n",
       "3           11.2              0.28         0.56             1.9      0.075   \n",
       "4            7.4              0.70         0.00             1.9      0.076   \n",
       "\n",
       "   free sulfur dioxide  total sulfur dioxide  density    pH  sulphates  \\\n",
       "0                 11.0                  34.0   0.9978  3.51       0.56   \n",
       "1                 25.0                  67.0   0.9968  3.20       0.68   \n",
       "2                 15.0                  54.0   0.9970  3.26       0.65   \n",
       "3                 17.0                  60.0   0.9980  3.16       0.58   \n",
       "4                 11.0                  34.0   0.9978  3.51       0.56   \n",
       "\n",
       "   alcohol  quality  \n",
       "0      9.4        5  \n",
       "1      9.8        5  \n",
       "2      9.8        5  \n",
       "3      9.8        6  \n",
       "4      9.4        5  "
      ]
     },
     "execution_count": 30,
     "metadata": {},
     "output_type": "execute_result"
    }
   ],
   "source": [
    "import pandas as pd\n",
    "import numpy as np\n",
    "import matplotlib.pyplot as plt\n",
    "from sklearn.tree import DecisionTreeRegressor\n",
    "\n",
    "from sklearn.model_selection import train_test_split\n",
    "from sklearn.linear_model import LinearRegression\n",
    "\n",
    "#Считываем данные из ссылки (качество красного вина)\n",
    "url = \"https://raw.githubusercontent.com/aniruddhachoudhury/Red-Wine-Quality/master/winequality-red.csv\"\n",
    "dataframe = pd.read_csv(url)\n",
    "dataframe.head()\n"
   ]
  },
  {
   "cell_type": "code",
   "execution_count": 31,
   "id": "a41bd4a3",
   "metadata": {},
   "outputs": [
    {
     "data": {
      "image/png": "[encoded data removed]",
      "text/plain": [
       "<Figure size 432x288 with 1 Axes>"
      ]
     },
     "metadata": {
      "needs_background": "light"
     },
     "output_type": "display_data"
    },
    {
     "data": {
      "image/png": "[encoded data removed]",
      "text/plain": [
       "<Figure size 432x288 with 1 Axes>"
      ]
     },
     "metadata": {
      "needs_background": "light"
     },
     "output_type": "display_data"
    },
    {
     "data": {
      "image/png": "[encoded data removed]",
      "text/plain": [
       "<Figure size 432x288 with 1 Axes>"
      ]
     },
     "metadata": {
      "needs_background": "light"
     },
     "output_type": "display_data"
    },
    {
     "data": {
      "image/png": "[encoded data removed]",
      "text/plain": [
       "<Figure size 432x288 with 1 Axes>"
      ]
     },
     "metadata": {
      "needs_background": "light"
     },
     "output_type": "display_data"
    },
    {
     "data": {
      "image/png": "[encoded data removed]",
      "text/plain": [
       "<Figure size 432x288 with 1 Axes>"
      ]
     },
     "metadata": {
      "needs_background": "light"
     },
     "output_type": "display_data"
    },
    {
     "data": {
      "image/png": "[encoded data removed]",
      "text/plain": [
       "<Figure size 432x288 with 1 Axes>"
      ]
     },
     "metadata": {
      "needs_background": "light"
     },
     "output_type": "display_data"
    },
    {
     "data": {
      "image/png": "[encoded data removed]",
      "text/plain": [
       "<Figure size 432x288 with 1 Axes>"
      ]
     },
     "metadata": {
      "needs_background": "light"
     },
     "output_type": "display_data"
    },
    {
     "data": {
      "image/png": "[encoded data removed]",
      "text/plain": [
       "<Figure size 432x288 with 1 Axes>"
      ]
     },
     "metadata": {
      "needs_background": "light"
     },
     "output_type": "display_data"
    },
    {
     "data": {
      "image/png": "[encoded data removed]",
      "text/plain": [
       "<Figure size 432x288 with 1 Axes>"
      ]
     },
     "metadata": {
      "needs_background": "light"
     },
     "output_type": "display_data"
    }
   ],
   "source": [
    "#Рисуем график \n",
    "\n",
    "# выбор переменной для оси X\n",
    "xframe = dataframe[\"quality\"]\n",
    "# выбор переменных для оси Y\n",
    "yframe = dataframe.drop(\"quality\", axis=1)\n",
    "# создание огромной диаграмы\n",
    "\n",
    "colors = [\"red\", \"green\", \"blue\", \"orange\", \"purple\", \"brown\", \"pink\", \"gray\",\"olive\"]\n",
    "\n",
    "for column, color in zip(yframe.columns, colors):\n",
    "    plt.scatter(yframe[column],xframe, label=column, color = color)\n",
    "    plt.ylabel(\"Качество\")\n",
    "    plt.xlabel(f\"{column}\")\n",
    "    plt.title(f\"Зависимость качества вина от {column}\")\n",
    "    plt.legend()\n",
    "    plt.show()"
   ]
  },
  {
   "cell_type": "code",
   "execution_count": 42,
   "id": "533063dc",
   "metadata": {},
   "outputs": [
    {
     "data": {
      "image/png": "[encoded data removed]",
      "text/plain": [
       "<Figure size 432x288 with 1 Axes>"
      ]
     },
     "metadata": {
      "needs_background": "light"
     },
     "output_type": "display_data"
    },
    {
     "name": "stdout",
     "output_type": "stream",
     "text": [
      "the predicted y values:  [5. 5. 7. 5. 5. 6. 6. 6. 5. 5. 5. 5. 6. 4. 5. 5. 7. 5. 5. 6. 6. 5. 6. 4.\n",
      " 5. 5. 5. 6. 5. 7. 6. 5. 5. 5. 7. 7. 6. 6. 6. 5. 6. 6. 8. 6. 6. 5. 5. 6.\n",
      " 5. 5. 6. 5. 6. 6. 5. 5. 5. 5. 7. 6. 5. 6. 6. 6. 5. 6. 5. 5. 8. 6. 6. 6.\n",
      " 5. 5. 6. 6. 5. 5. 5. 7. 6. 5. 7. 5. 6. 5. 4. 5. 5. 5. 5. 6. 7. 6. 5. 6.\n",
      " 7. 4. 5. 6. 6. 5. 6. 6. 5. 5. 5. 6. 6. 5. 6. 5. 8. 5. 6. 6. 5. 7. 7. 6.\n",
      " 5. 4. 5. 5. 6. 6. 5. 6. 6. 7. 6. 6. 6. 6. 6. 5. 6. 5. 7. 5. 6. 6. 5. 5.\n",
      " 5. 6. 8. 6. 5. 5. 5. 5. 6. 5. 6. 6. 6. 6. 6. 6. 5. 6. 7. 5. 5. 5. 6. 6.\n",
      " 6. 6. 6. 5. 5. 7. 6. 7. 7. 7. 7. 5. 4. 7. 6. 6. 7. 6. 6. 6. 5. 5. 6. 6.\n",
      " 6. 6. 5. 6. 5. 6. 5. 5. 5. 6. 6. 6. 3. 5. 6. 7. 6. 6. 5. 7. 5. 7. 3. 6.\n",
      " 6. 7. 6. 5. 5. 5. 7. 6. 5. 6. 7. 6. 6. 5. 5. 6. 6. 5. 7. 6. 6. 7. 7. 6.\n",
      " 5. 6. 5. 5. 7. 6. 5. 5. 5. 6. 6. 6. 5. 5. 5. 5. 5. 5. 6. 7. 5. 6. 5. 6.\n",
      " 6. 5. 5. 5. 5. 6. 5. 5. 5. 5. 7. 6. 5. 6. 6. 5. 5. 7. 5. 6. 6. 5. 5. 5.\n",
      " 7. 6. 5. 6. 6. 6. 6. 6. 6. 5. 5. 5. 6. 5. 6. 5. 6. 6. 6. 5. 6. 5. 5. 6.\n",
      " 5. 4. 5. 6. 6. 5. 5. 7.]\n",
      "dataframe:      0\n",
      "5.0  6\n",
      "5.0  5\n",
      "7.0  7\n",
      "5.0  6\n",
      "5.0  5\n",
      "..  ..\n",
      "6.0  6\n",
      "6.0  4\n",
      "5.0  5\n",
      "5.0  4\n",
      "7.0  6\n",
      "\n",
      "[320 rows x 1 columns]\n"
     ]
    }
   ],
   "source": [
    "#Отделяем quality От других переменных\n",
    "\n",
    "y = dataframe[\"quality\"] \n",
    "X = dataframe.drop(columns='quality') \n",
    "\n",
    "#добавляем две оси\n",
    "X = np.c_[X, np.ones(X.shape[0])]  # от чего зависит качество\n",
    "y = np.c_[y]                       # Качество вина\n",
    "\n",
    "# Производим разбиение выборки на тренировочную и тестовую\n",
    "X_train, X_test, y_train, y_test = train_test_split(X, y, test_size = 0.2, random_state = 0)\n",
    "\n",
    "#создаем регрессор и обучаем дерево на тренировочных данных\n",
    "regressor = DecisionTreeRegressor() \n",
    "regressor.fit(X_train, y_train)\n",
    "\n",
    "from sklearn import tree \n",
    "from sklearn import metrics \n",
    "#визуализируем дерево \n",
    "tree.plot_tree(regressor)\n",
    "plt.show()\n",
    "#делаем предсказание на тестовых данных\n",
    "y_pred = regressor.predict(X_test)\n",
    "print(\"the predicted y values: \\n\", y_pred)\n",
    "\n",
    "#создаем датафрейм предсказанных данных и реальных\n",
    "df=pd.DataFrame(y_test,y_pred)\n",
    "print(\"dataframe:\\n\" , df)"
   ]
  },
  {
   "cell_type": "code",
   "execution_count": 37,
   "id": "c8268ad8",
   "metadata": {},
   "outputs": [
    {
     "name": "stdout",
     "output_type": "stream",
     "text": [
      "Mean Squared Error: 0.615625\n",
      "Avg Absolute Error: 8.039801098535285\n",
      "the percentage of error: \n",
      "8.039801098535285\n"
     ]
    }
   ],
   "source": [
    "from sklearn import metrics\n",
    "\n",
    "print('Mean Squared Error:', metrics.mean_squared_error(y_test, y_pred)) \n",
    "print ('Avg Absolute Error:', metrics.mean_absolute_error(y_test, y_pred) / np.average(y) * 100)\n",
    "print (\"the percentage of error: \")\n",
    "print (metrics.mean_absolute_error(y_test, y_pred) / np.average(y) * 100)\n",
    "# 8 % ошибка"
   ]
  }
 ],
 "metadata": {
  "kernelspec": {
   "display_name": "Python 3 (ipykernel)",
   "language": "python",
   "name": "python3"
  },
  "language_info": {
   "codemirror_mode": {
    "name": "ipython",
    "version": 3
   },
   "file_extension": ".py",
   "mimetype": "text/x-python",
   "name": "python",
   "nbconvert_exporter": "python",
   "pygments_lexer": "ipython3",
   "version": "3.10.5"
  }
 },
 "nbformat": 4,
 "nbformat_minor": 5
}
